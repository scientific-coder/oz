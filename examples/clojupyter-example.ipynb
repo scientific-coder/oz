{
 "cells": [
  {
   "cell_type": "markdown",
   "metadata": {},
   "source": [
    "# Clojupyter + oz example\n",
    "\n",
    "This notebook demonstrates basic usage of oz from a Jupyter notebook using the Clojuypyter kernel.\n",
    "\n",
    "Note that the visualizations below may not render if you're looking at this on GitHub, but will render if you load the notebook into a running Jupyter instance."
   ]
  },
  {
   "cell_type": "code",
   "execution_count": 1,
   "metadata": {},
   "outputs": [
    {
     "data": {
      "text/plain": [
       "{[org.apache.commons/commons-math3 \"3.6.1\"] nil, [com.github.fommil.netlib/native_ref-java \"1.1\"] #{[com.github.fommil/jniloader \"1.1\"]}, [org.scala-lang/scala-reflect \"2.11.12\"] nil, [com.tdunning/t-digest \"3.2\"] nil, [com.taoensso/timbre \"4.10.0\"] nil, [org.iq80.snappy/snappy \"0.4\"] nil, [org.checkerframework/checker-qual \"2.0.0\"] nil, [org.clojure/tools.reader \"1.3.2\"] nil, [us.bpsm/edn-java \"0.4.7\"] nil, [net.sourceforge.f2j/arpack_combined_all \"0.1\"] nil, [techascent/tech.parallel \"1.3\"] nil, [camel-snake-kebab \"0.4.0\"] nil, [org.clojure/tools.macro \"0.1.5\"] nil, [org.clojure/clojure \"1.10.1-beta2\"] nil, [org.slf4j/slf4j-api \"1.7.25\"] nil, [com.github.haifengl/smile-data \"1.5.2\"] nil, [org.objenesis/objenesis \"1.2\"] nil, [com.taoensso/truss \"1.5.0\"] nil, [clj-commons/fs \"1.5.0\"] nil, [com.univocity/univocity-parsers \"2.7.5\"] nil, [tech.tablesaw/tablesaw-core \"0.30.2\"] #{[com.univocity/univocity-parsers \"2.7.5\"] [org.roaringbitmap/RoaringBitmap \"0.7.14\"] [org.jsoup/jsoup \"1.11.3\"] [com.google.guava/guava \"25.1-jre\"]}, [net.jpountz.lz4/lz4 \"1.3\"] nil, [org.codehaus.mojo/animal-sniffer-annotations \"1.14\"] nil, [org.roaringbitmap/RoaringBitmap \"0.7.14\"] nil, [com.github.haifengl/smile-netlib \"1.5.2\"] #{[net.sourceforge.f2j/arpack_combined_all \"0.1\"] [com.github.fommil.netlib/all \"1.1.2\" :extension \"pom\"]}, [org.clojure/tools.analyzer \"0.6.9\"] nil, [org.scala-lang.modules/scala-xml_2.11 \"1.0.5\"] nil, [net.mikera/vectorz \"0.66.0\"] nil, [techascent/tech.jna \"3.6\"] nil, [com.github.fommil.netlib/netlib-native_ref-win-x86_64 \"1.1\" :classifier \"natives\"] nil, [techascent/tech.io \"2.8\"] #{[com.taoensso/timbre \"4.10.0\"] [org.iq80.snappy/snappy \"0.4\"] [org.clojure/tools.reader \"1.3.2\"] [techascent/tech.parallel \"1.3\"] [com.taoensso/truss \"1.5.0\"] [clj-commons/fs \"1.5.0\"] [net.jpountz.lz4/lz4 \"1.3\"] [org.clojure/tools.analyzer \"0.6.9\"] [techascent/tech.config \"0.3.5\"] [org.clojure/core.memoize \"0.5.9\"] [org.clojure/java.classpath \"0.3.0\"] [org.clojure/core.specs.alpha \"0.1.24\"] [io.aviso/pretty \"0.1.33\"] [org.apache.commons/commons-compress \"1.8\"] [org.ow2.asm/asm-all \"4.2\"] [org.clojure/data.priority-map \"0.0.7\"] [com.taoensso/encore \"2.102.0\"] [techascent/tech.resource \"4.2\"] [environ \"1.1.0\"] [org.clojure/core.cache \"0.6.5\"] [com.taoensso/nippy \"2.15.0-alpha8\"] [org.clojure/core.async \"0.4.490\"] [org.clojure/spec.alpha \"0.1.143\"] [org.clojure/tools.analyzer.jvm \"0.7.2\"] [org.tukaani/xz \"1.8\"]}, [com.github.fommil.netlib/netlib-native_system-linux-i686 \"1.1\" :classifier \"natives\"] nil, [org.scala-lang/scala-library \"2.11.12\"] nil, [techascent/tech.datatype \"4.0-alpha18\"] #{[org.apache.commons/commons-math3 \"3.6.1\"] [com.tdunning/t-digest \"3.2\"] [us.bpsm/edn-java \"0.4.7\"] [org.clojure/tools.macro \"0.1.5\"] [net.mikera/vectorz \"0.66.0\"] [techascent/tech.jna \"3.6\"] [net.mikera/mathz \"0.3.0\"] [net.mikera/core.matrix \"0.62.0\"] [net.java.dev.jna/jna \"5.2.0\"] [it.unimi.dsi/fastutil \"8.2.1\"] [org.clojure/math.combinatorics \"0.1.4\"] [org.clojure/test.check \"0.9.0\"] [net.mikera/vectorz-clj \"0.48.0\"] [net.mikera/clojure-utils \"0.8.0\"] [redux \"0.1.3\"] [kixi/stats \"0.5.0\"] [net.mikera/randomz \"0.3.0\"]}, [com.github.fommil.netlib/netlib-native_ref-win-i686 \"1.1\" :classifier \"natives\"] nil, [com.github.fommil.netlib/netlib-native_ref-osx-x86_64 \"1.1\" :classifier \"natives\"] #{[com.github.fommil.netlib/native_ref-java \"1.1\"]}, [net.mikera/mathz \"0.3.0\"] nil, [com.github.fommil.netlib/netlib-native_system-osx-x86_64 \"1.1\" :classifier \"natives\"] #{[com.github.fommil.netlib/native_system-java \"1.1\"]}, [net.mikera/core.matrix \"0.62.0\"] nil, [com.github.haifengl/smile-graph \"1.5.2\"] nil, [com.github.fommil.netlib/native_system-java \"1.1\"] nil, [net.java.dev.jna/jna \"5.2.0\"] nil, [com.esotericsoftware.kryo/kryo \"2.21\"] #{[org.objenesis/objenesis \"1.2\"] [com.esotericsoftware.minlog/minlog \"1.2\"] [com.esotericsoftware.reflectasm/reflectasm \"1.07\" :classifier \"shaded\"]}, [com.github.fommil.netlib/netlib-native_system-win-i686 \"1.1\" :classifier \"natives\"] nil, [org.scala-lang.modules/scala-parser-combinators_2.11 \"1.0.4\"] nil, [techascent/tech.config \"0.3.5\"] nil, [org.clojure/core.memoize \"0.5.9\"] nil, [com.esotericsoftware.minlog/minlog \"1.2\"] nil, [com.google.j2objc/j2objc-annotations \"1.1\"] nil, [it.unimi.dsi/fastutil \"8.2.1\"] nil, [techascent/tech.ml.dataset \"1.0-alpha3\"] #{[camel-snake-kebab \"0.4.0\"] [org.clojure/clojure \"1.10.1-beta2\"] [tech.tablesaw/tablesaw-core \"0.30.2\"] [com.github.haifengl/smile-netlib \"1.5.2\"] [techascent/tech.datatype \"4.0-alpha18\"] [com.github.haifengl/smile-core \"1.5.2\"]}, [org.clojure/math.combinatorics \"0.1.4\"] nil, [com.typesafe.akka/akka-actor_2.11 \"2.3.11\"] #{[com.typesafe/config \"1.2.1\"]}, [org.clojure/java.classpath \"0.3.0\"] nil, [com.github.fommil/jniloader \"1.1\"] nil, [com.github.fommil.netlib/netlib-native_ref-linux-i686 \"1.1\" :classifier \"natives\"] nil, [org.clojure/test.check \"0.9.0\"] nil, [net.mikera/vectorz-clj \"0.48.0\"] nil, [com.esotericsoftware.reflectasm/reflectasm \"1.07\" :classifier \"shaded\"] #{[org.ow2.asm/asm \"4.0\"]}, [org.clojure/core.specs.alpha \"0.1.24\"] nil, [com.github.fommil.netlib/netlib-native_ref-linux-x86_64 \"1.1\" :classifier \"natives\"] nil, [com.github.fommil.netlib/core \"1.1.2\"] nil, [io.aviso/pretty \"0.1.33\"] nil, [com.github.fommil.netlib/all \"1.1.2\" :extension \"pom\"] #{[com.github.fommil.netlib/netlib-native_ref-win-x86_64 \"1.1\" :classifier \"natives\"] [com.github.fommil.netlib/netlib-native_system-linux-i686 \"1.1\" :classifier \"natives\"] [com.github.fommil.netlib/netlib-native_ref-win-i686 \"1.1\" :classifier \"natives\"] [com.github.fommil.netlib/netlib-native_ref-osx-x86_64 \"1.1\" :classifier \"natives\"] [com.github.fommil.netlib/netlib-native_system-osx-x86_64 \"1.1\" :classifier \"natives\"] [com.github.fommil.netlib/netlib-native_system-win-i686 \"1.1\" :classifier \"natives\"] [com.github.fommil.netlib/netlib-native_ref-linux-i686 \"1.1\" :classifier \"natives\"] [com.github.fommil.netlib/netlib-native_ref-linux-x86_64 \"1.1\" :classifier \"natives\"] [com.github.fommil.netlib/core \"1.1.2\"] [com.github.fommil.netlib/netlib-native_system-win-x86_64 \"1.1\" :classifier \"natives\"] [com.github.fommil.netlib/netlib-native_system-linux-armhf \"1.1\" :classifier \"natives\"] [com.github.fommil.netlib/netlib-native_system-linux-x86_64 \"1.1\" :classifier \"natives\"] [com.github.fommil.netlib/netlib-native_ref-linux-armhf \"1.1\" :classifier \"natives\"]}, [org.apache.commons/commons-compress \"1.8\"] nil, [com.github.fommil.netlib/netlib-native_system-win-x86_64 \"1.1\" :classifier \"natives\"] nil, [org.ow2.asm/asm-all \"4.2\"] nil, [org.clojure/data.priority-map \"0.0.7\"] nil, [ml.dmlc/xgboost4j \"0.81\"] #{[org.scala-lang/scala-reflect \"2.11.12\"] [org.scala-lang/scala-library \"2.11.12\"] [com.esotericsoftware.kryo/kryo \"2.21\"] [com.typesafe.akka/akka-actor_2.11 \"2.3.11\"] [commons-logging \"1.2\"] [org.scala-lang/scala-compiler \"2.11.12\"]}, [net.mikera/clojure-utils \"0.8.0\"] nil, [com.github.haifengl/smile-math \"1.5.2\"] #{[org.slf4j/slf4j-api \"1.7.25\"]}, [com.taoensso/encore \"2.102.0\"] nil, [techascent/tech.resource \"4.2\"] nil, [com.google.errorprone/error_prone_annotations \"2.1.3\"] nil, [com.github.fommil.netlib/netlib-native_system-linux-armhf \"1.1\" :classifier \"natives\"] nil, [environ \"1.1.0\"] nil, [techascent/tech.ml \"1.0-alpha3\"] #{[techascent/tech.io \"2.8\"] [techascent/tech.ml.dataset \"1.0-alpha3\"] [ml.dmlc/xgboost4j \"0.81\"]}, [com.typesafe/config \"1.2.1\"] nil, [commons-logging \"1.2\"] nil, [org.scala-lang/scala-compiler \"2.11.12\"] #{[org.scala-lang.modules/scala-xml_2.11 \"1.0.5\"] [org.scala-lang.modules/scala-parser-combinators_2.11 \"1.0.4\"]}, [redux \"0.1.3\"] nil, [org.jsoup/jsoup \"1.11.3\"] nil, [com.google.guava/guava \"25.1-jre\"] #{[org.checkerframework/checker-qual \"2.0.0\"] [org.codehaus.mojo/animal-sniffer-annotations \"1.14\"] [com.google.j2objc/j2objc-annotations \"1.1\"] [com.google.errorprone/error_prone_annotations \"2.1.3\"] [com.google.code.findbugs/jsr305 \"3.0.2\"]}, [com.google.code.findbugs/jsr305 \"3.0.2\"] nil, [com.github.fommil.netlib/netlib-native_system-linux-x86_64 \"1.1\" :classifier \"natives\"] nil, [com.github.fommil.netlib/netlib-native_ref-linux-armhf \"1.1\" :classifier \"natives\"] nil, [kixi/stats \"0.5.0\"] nil, [net.mikera/randomz \"0.3.0\"] nil, [org.ow2.asm/asm \"4.0\"] nil, [org.clojure/core.cache \"0.6.5\"] nil, [com.taoensso/nippy \"2.15.0-alpha8\"] nil, [org.clojure/core.async \"0.4.490\"] nil, [com.github.haifengl/smile-core \"1.5.2\"] #{[com.github.haifengl/smile-data \"1.5.2\"] [com.github.haifengl/smile-graph \"1.5.2\"] [com.github.haifengl/smile-math \"1.5.2\"]}, [org.clojure/spec.alpha \"0.1.143\"] nil, [org.clojure/tools.analyzer.jvm \"0.7.2\"] nil, [org.tukaani/xz \"1.8\"] nil}"
      ]
     },
     "execution_count": 1,
     "metadata": {},
     "output_type": "execute_result"
    }
   ],
   "source": [
    "(require '[clojupyter.misc.helper :as helper])\n",
    "(clojupyter.misc.stacktrace/set-print-stacktraces! true)\n",
    "(helper/add-dependencies '[techascent/tech.ml \"1.0-alpha3\"])"
   ]
  },
  {
   "cell_type": "code",
   "execution_count": 2,
   "metadata": {},
   "outputs": [
    {
     "data": {
      "text/plain": [
       "nil"
      ]
     },
     "execution_count": 2,
     "metadata": {},
     "output_type": "execute_result"
    }
   ],
   "source": [
    "(helper/add-dependencies '[metasoarous/oz \"1.6.0-alpha2\"])\n",
    "(require '[oz.notebook.clojupyter :as oz])\n",
    "\n",
    "(require '[tech.libs.smile.utils :as smile-utils])\n",
    "\n",
    "(require '[tech.ml.dataset.pipeline\n",
    "           ;;We use col a lot, and int map is similar\n",
    "           :refer [col]\n",
    "           :as dsp])\n",
    "(require '[tech.ml.dataset.pipeline.column-filters :as cf])\n",
    "(require '[tech.v2.datatype :as dtype])\n",
    "(require '[tech.v2.datatype.functional :as dfn])\n",
    "(require '[tech.ml.dataset :as ds])\n",
    "(require '[tech.ml.dataset.column :as ds-col])\n",
    "(require '[tech.ml :as ml])\n",
    "(require '[tech.ml.loss :as loss])\n",
    "(require '[tech.ml.utils :as ml-utils])\n",
    "(require '[tech.ml.regression :as ml-regression])\n",
    "(require '[tech.ml.visualization.vega :as vega-viz])\n",
    "(require '[clojure.core.matrix :as m])\n",
    "\n",
    ";;use tablesaw as dataset backing store\n",
    "(require '[tech.libs.tablesaw :as tablesaw])\n",
    "\n",
    ";;model generators\n",
    "(require '[tech.libs.xgboost])\n",
    "(require '[tech.libs.smile.regression])\n",
    "\n",
    ";;put/get nippy\n",
    "(require '[tech.io :as io])\n",
    "(require '[clojure.pprint :as pp])\n",
    "(require '[clojure.set :as c-set])"
   ]
  },
  {
   "cell_type": "code",
   "execution_count": 3,
   "metadata": {},
   "outputs": [
    {
     "data": {
      "text/plain": [
       "#'user/print-table"
      ]
     },
     "execution_count": 3,
     "metadata": {},
     "output_type": "execute_result"
    }
   ],
   "source": [
    "(import '[java.io File])\n",
    "\n",
    "\n",
    "(defn pp-str\n",
    "  [ds]\n",
    "  (with-out-str\n",
    "    (pp/pprint ds)))\n",
    "\n",
    "\n",
    "(defn print-table\n",
    "  ([ks data]\n",
    "     (->> data\n",
    "          (map (fn [item-map]\n",
    "                 (->> item-map\n",
    "                      (map (fn [[k v]]\n",
    "                             [k (if (or (float? v)\n",
    "                                        (double? v))\n",
    "                                  (format \"%.3f\" v)\n",
    "                                  v)]))\n",
    "                      (into {}))))\n",
    "          (pp/print-table ks)))\n",
    "  ([data]\n",
    "   (print-table (sort (keys (first data))) data)))"
   ]
  },
  {
   "cell_type": "code",
   "execution_count": 7,
   "metadata": {},
   "outputs": [
    {
     "data": {
      "text/plain": [
       "nil"
      ]
     },
     "execution_count": 7,
     "metadata": {},
     "output_type": "execute_result"
    }
   ],
   "source": [
    "(def tmp-data (slurp \"https://raw.githubusercontent.com/kphaser/ames-house-prices/master/data/train.csv\"))\n",
    "(spit \"train.csv\" (slurp \"https://raw.githubusercontent.com/kphaser/ames-house-prices/master/data/train.csv\"))"
   ]
  },
  {
   "cell_type": "code",
   "execution_count": 9,
   "metadata": {},
   "outputs": [
    {
     "name": "stdout",
     "output_type": "stream",
     "text": [
      "[81 1460]\n"
     ]
    },
    {
     "data": {
      "text/plain": [
       "nil"
      ]
     },
     "execution_count": 9,
     "metadata": {},
     "output_type": "execute_result"
    }
   ],
   "source": [
    "(def src-dataset (tablesaw/path->tablesaw-dataset \"train.csv\"))\n",
    "(println (m/shape src-dataset))"
   ]
  },
  {
   "cell_type": "code",
   "execution_count": 10,
   "metadata": {},
   "outputs": [
    {
     "data": {
      "text/html": [
       "\n",
       "<div>\n",
       "  <div id='uuid-a06db140-c1c2-4ede-9024-4ecfaf7aa1f0'></div>\n",
       "  <script>\n",
       "  requirejs.config({\n",
       "    baseUrl: 'https://cdn.jsdelivr.net/npm/',\n",
       "    paths: {\n",
       "      'vega-embed':  'vega-embed@3?noext',\n",
       "      'vega-lib': 'vega-lib?noext',\n",
       "      'vega-lite': 'vega-lite@2?noext',\n",
       "      'vega': 'vega@3?noext'\n",
       "    }\n",
       "  });\n",
       "  require(['vega-embed'], function(vegaEmbed) {\n",
       "    let spec = {\"data\":{\"values\":[{\"SalePrice\":208500,\"GrLivArea\":1710},{\"SalePrice\":181500,\"GrLivArea\":1262},{\"SalePrice\":223500,\"GrLivArea\":1786},{\"SalePrice\":140000,\"GrLivArea\":1717},{\"SalePrice\":250000,\"GrLivArea\":2198},{\"SalePrice\":143000,\"GrLivArea\":1362},{\"SalePrice\":307000,\"GrLivArea\":1694},{\"SalePrice\":200000,\"GrLivArea\":2090},{\"SalePrice\":129900,\"GrLivArea\":1774},{\"SalePrice\":118000,\"GrLivArea\":1077},{\"SalePrice\":129500,\"GrLivArea\":1040},{\"SalePrice\":345000,\"GrLivArea\":2324},{\"SalePrice\":144000,\"GrLivArea\":912},{\"SalePrice\":279500,\"GrLivArea\":1494},{\"SalePrice\":157000,\"GrLivArea\":1253},{\"SalePrice\":132000,\"GrLivArea\":854},{\"SalePrice\":149000,\"GrLivArea\":1004},{\"SalePrice\":90000,\"GrLivArea\":1296},{\"SalePrice\":159000,\"GrLivArea\":1114},{\"SalePrice\":139000,\"GrLivArea\":1339},{\"SalePrice\":325300,\"GrLivArea\":2376},{\"SalePrice\":139400,\"GrLivArea\":1108},{\"SalePrice\":230000,\"GrLivArea\":1795},{\"SalePrice\":129900,\"GrLivArea\":1060},{\"SalePrice\":154000,\"GrLivArea\":1060},{\"SalePrice\":256300,\"GrLivArea\":1600},{\"SalePrice\":134800,\"GrLivArea\":900},{\"SalePrice\":306000,\"GrLivArea\":1704},{\"SalePrice\":207500,\"GrLivArea\":1600},{\"SalePrice\":68500,\"GrLivArea\":520},{\"SalePrice\":40000,\"GrLivArea\":1317},{\"SalePrice\":149350,\"GrLivArea\":1228},{\"SalePrice\":179900,\"GrLivArea\":1234},{\"SalePrice\":165500,\"GrLivArea\":1700},{\"SalePrice\":277500,\"GrLivArea\":1561},{\"SalePrice\":309000,\"GrLivArea\":2452},{\"SalePrice\":145000,\"GrLivArea\":1097},{\"SalePrice\":153000,\"GrLivArea\":1297},{\"SalePrice\":109000,\"GrLivArea\":1057},{\"SalePrice\":82000,\"GrLivArea\":1152},{\"SalePrice\":160000,\"GrLivArea\":1324},{\"SalePrice\":170000,\"GrLivArea\":1328},{\"SalePrice\":144000,\"GrLivArea\":884},{\"SalePrice\":130250,\"GrLivArea\":938},{\"SalePrice\":141000,\"GrLivArea\":1150},{\"SalePrice\":319900,\"GrLivArea\":1752},{\"SalePrice\":239686,\"GrLivArea\":2149},{\"SalePrice\":249700,\"GrLivArea\":1656},{\"SalePrice\":113000,\"GrLivArea\":1452},{\"SalePrice\":127000,\"GrLivArea\":955},{\"SalePrice\":177000,\"GrLivArea\":1470},{\"SalePrice\":114500,\"GrLivArea\":1176},{\"SalePrice\":110000,\"GrLivArea\":816},{\"SalePrice\":385000,\"GrLivArea\":1842},{\"SalePrice\":130000,\"GrLivArea\":1360},{\"SalePrice\":180500,\"GrLivArea\":1425},{\"SalePrice\":172500,\"GrLivArea\":1739},{\"SalePrice\":196500,\"GrLivArea\":1720},{\"SalePrice\":438780,\"GrLivArea\":2945},{\"SalePrice\":124900,\"GrLivArea\":780},{\"SalePrice\":158000,\"GrLivArea\":1158},{\"SalePrice\":101000,\"GrLivArea\":1111},{\"SalePrice\":202500,\"GrLivArea\":1370},{\"SalePrice\":140000,\"GrLivArea\":1710},{\"SalePrice\":219500,\"GrLivArea\":2034},{\"SalePrice\":317000,\"GrLivArea\":2473},{\"SalePrice\":180000,\"GrLivArea\":2207},{\"SalePrice\":226000,\"GrLivArea\":1479},{\"SalePrice\":80000,\"GrLivArea\":747},{\"SalePrice\":225000,\"GrLivArea\":2287},{\"SalePrice\":244000,\"GrLivArea\":2223},{\"SalePrice\":129500,\"GrLivArea\":845},{\"SalePrice\":185000,\"GrLivArea\":1718},{\"SalePrice\":144900,\"GrLivArea\":1086},{\"SalePrice\":107400,\"GrLivArea\":1605},{\"SalePrice\":91000,\"GrLivArea\":988},{\"SalePrice\":135750,\"GrLivArea\":952},{\"SalePrice\":127000,\"GrLivArea\":1285},{\"SalePrice\":136500,\"GrLivArea\":1768},{\"SalePrice\":110000,\"GrLivArea\":1230},{\"SalePrice\":193500,\"GrLivArea\":2142},{\"SalePrice\":153500,\"GrLivArea\":1337},{\"SalePrice\":245000,\"GrLivArea\":1563},{\"SalePrice\":126500,\"GrLivArea\":1065},{\"SalePrice\":168500,\"GrLivArea\":1474},{\"SalePrice\":260000,\"GrLivArea\":2417},{\"SalePrice\":174000,\"GrLivArea\":1560},{\"SalePrice\":164500,\"GrLivArea\":1224},{\"SalePrice\":85000,\"GrLivArea\":1526},{\"SalePrice\":123600,\"GrLivArea\":990},{\"SalePrice\":109900,\"GrLivArea\":1040},{\"SalePrice\":98600,\"GrLivArea\":1235},{\"SalePrice\":163500,\"GrLivArea\":964},{\"SalePrice\":133900,\"GrLivArea\":2291},{\"SalePrice\":204750,\"GrLivArea\":1786},{\"SalePrice\":185000,\"GrLivArea\":1470},{\"SalePrice\":214000,\"GrLivArea\":1588},{\"SalePrice\":94750,\"GrLivArea\":960},{\"SalePrice\":83000,\"GrLivArea\":835},{\"SalePrice\":128950,\"GrLivArea\":1225},{\"SalePrice\":205000,\"GrLivArea\":1610},{\"SalePrice\":178000,\"GrLivArea\":1732},{\"SalePrice\":118964,\"GrLivArea\":1535},{\"SalePrice\":198900,\"GrLivArea\":1226},{\"SalePrice\":169500,\"GrLivArea\":1818},{\"SalePrice\":250000,\"GrLivArea\":1992},{\"SalePrice\":100000,\"GrLivArea\":1047},{\"SalePrice\":115000,\"GrLivArea\":789},{\"SalePrice\":115000,\"GrLivArea\":1517},{\"SalePrice\":190000,\"GrLivArea\":1844},{\"SalePrice\":136900,\"GrLivArea\":1855},{\"SalePrice\":180000,\"GrLivArea\":1430},{\"SalePrice\":383970,\"GrLivArea\":2696},{\"SalePrice\":217000,\"GrLivArea\":2259},{\"SalePrice\":259500,\"GrLivArea\":2320},{\"SalePrice\":176000,\"GrLivArea\":1458},{\"SalePrice\":139000,\"GrLivArea\":1092},{\"SalePrice\":155000,\"GrLivArea\":1125},{\"SalePrice\":320000,\"GrLivArea\":3222},{\"SalePrice\":163990,\"GrLivArea\":1456},{\"SalePrice\":180000,\"GrLivArea\":988},{\"SalePrice\":100000,\"GrLivArea\":1123},{\"SalePrice\":136000,\"GrLivArea\":1080},{\"SalePrice\":153900,\"GrLivArea\":1199},{\"SalePrice\":181000,\"GrLivArea\":1586},{\"SalePrice\":84500,\"GrLivArea\":754},{\"SalePrice\":128000,\"GrLivArea\":958},{\"SalePrice\":87000,\"GrLivArea\":840},{\"SalePrice\":155000,\"GrLivArea\":1348},{\"SalePrice\":150000,\"GrLivArea\":1053},{\"SalePrice\":226000,\"GrLivArea\":2157},{\"SalePrice\":244000,\"GrLivArea\":2054},{\"SalePrice\":150750,\"GrLivArea\":1327},{\"SalePrice\":220000,\"GrLivArea\":1296},{\"SalePrice\":180000,\"GrLivArea\":1721},{\"SalePrice\":174000,\"GrLivArea\":1682},{\"SalePrice\":143000,\"GrLivArea\":1214},{\"SalePrice\":171000,\"GrLivArea\":1959},{\"SalePrice\":230000,\"GrLivArea\":1852},{\"SalePrice\":231500,\"GrLivArea\":1764},{\"SalePrice\":115000,\"GrLivArea\":864},{\"SalePrice\":260000,\"GrLivArea\":1734},{\"SalePrice\":166000,\"GrLivArea\":1385},{\"SalePrice\":204000,\"GrLivArea\":1501},{\"SalePrice\":125000,\"GrLivArea\":1728},{\"SalePrice\":130000,\"GrLivArea\":1709},{\"SalePrice\":105000,\"GrLivArea\":875},{\"SalePrice\":222500,\"GrLivArea\":2035},{\"SalePrice\":141000,\"GrLivArea\":1080},{\"SalePrice\":115000,\"GrLivArea\":1344},{\"SalePrice\":122000,\"GrLivArea\":969},{\"SalePrice\":372402,\"GrLivArea\":1710},{\"SalePrice\":190000,\"GrLivArea\":1993},{\"SalePrice\":235000,\"GrLivArea\":1252},{\"SalePrice\":125000,\"GrLivArea\":1200},{\"SalePrice\":79000,\"GrLivArea\":1096},{\"SalePrice\":109500,\"GrLivArea\":1040},{\"SalePrice\":269500,\"GrLivArea\":1968},{\"SalePrice\":254900,\"GrLivArea\":1947},{\"SalePrice\":320000,\"GrLivArea\":2462},{\"SalePrice\":162500,\"GrLivArea\":1232},{\"SalePrice\":412500,\"GrLivArea\":2668},{\"SalePrice\":220000,\"GrLivArea\":1541},{\"SalePrice\":103200,\"GrLivArea\":882},{\"SalePrice\":152000,\"GrLivArea\":1616},{\"SalePrice\":127500,\"GrLivArea\":1355},{\"SalePrice\":190000,\"GrLivArea\":1867},{\"SalePrice\":325624,\"GrLivArea\":2161},{\"SalePrice\":183500,\"GrLivArea\":1720},{\"SalePrice\":228000,\"GrLivArea\":1707},{\"SalePrice\":128500,\"GrLivArea\":1382},{\"SalePrice\":215000,\"GrLivArea\":1656},{\"SalePrice\":239000,\"GrLivArea\":1767},{\"SalePrice\":163000,\"GrLivArea\":1362},{\"SalePrice\":184000,\"GrLivArea\":1651},{\"SalePrice\":243000,\"GrLivArea\":2158},{\"SalePrice\":211000,\"GrLivArea\":2060},{\"SalePrice\":172500,\"GrLivArea\":1920},{\"SalePrice\":501837,\"GrLivArea\":2234},{\"SalePrice\":100000,\"GrLivArea\":968},{\"SalePrice\":177000,\"GrLivArea\":1525},{\"SalePrice\":200100,\"GrLivArea\":1802},{\"SalePrice\":120000,\"GrLivArea\":1340},{\"SalePrice\":200000,\"GrLivArea\":2082},{\"SalePrice\":127000,\"GrLivArea\":1252},{\"SalePrice\":475000,\"GrLivArea\":3608},{\"SalePrice\":173000,\"GrLivArea\":1217},{\"SalePrice\":135000,\"GrLivArea\":1656},{\"SalePrice\":153337,\"GrLivArea\":1224},{\"SalePrice\":286000,\"GrLivArea\":1593},{\"SalePrice\":315000,\"GrLivArea\":2727},{\"SalePrice\":184000,\"GrLivArea\":1479},{\"SalePrice\":192000,\"GrLivArea\":1431},{\"SalePrice\":130000,\"GrLivArea\":1709},{\"SalePrice\":127000,\"GrLivArea\":864},{\"SalePrice\":148500,\"GrLivArea\":1456},{\"SalePrice\":311872,\"GrLivArea\":1726},{\"SalePrice\":235000,\"GrLivArea\":3112},{\"SalePrice\":104000,\"GrLivArea\":2229},{\"SalePrice\":274900,\"GrLivArea\":1713},{\"SalePrice\":140000,\"GrLivArea\":1121},{\"SalePrice\":171500,\"GrLivArea\":1279},{\"SalePrice\":112000,\"GrLivArea\":1310},{\"SalePrice\":149000,\"GrLivArea\":848},{\"SalePrice\":110000,\"GrLivArea\":1284},{\"SalePrice\":180500,\"GrLivArea\":1442},{\"SalePrice\":143900,\"GrLivArea\":1696},{\"SalePrice\":141000,\"GrLivArea\":1100},{\"SalePrice\":277000,\"GrLivArea\":2062},{\"SalePrice\":145000,\"GrLivArea\":1092},{\"SalePrice\":98000,\"GrLivArea\":864},{\"SalePrice\":186000,\"GrLivArea\":1212},{\"SalePrice\":252678,\"GrLivArea\":1852},{\"SalePrice\":156000,\"GrLivArea\":990},{\"SalePrice\":161750,\"GrLivArea\":1392},{\"SalePrice\":134450,\"GrLivArea\":1236},{\"SalePrice\":210000,\"GrLivArea\":1436},{\"SalePrice\":107000,\"GrLivArea\":1328},{\"SalePrice\":311500,\"GrLivArea\":1954},{\"SalePrice\":167240,\"GrLivArea\":1248},{\"SalePrice\":204900,\"GrLivArea\":1498},{\"SalePrice\":200000,\"GrLivArea\":2267},{\"SalePrice\":179900,\"GrLivArea\":1552},{\"SalePrice\":97000,\"GrLivArea\":864},{\"SalePrice\":386250,\"GrLivArea\":2392},{\"SalePrice\":112000,\"GrLivArea\":1302},{\"SalePrice\":290000,\"GrLivArea\":2520},{\"SalePrice\":106000,\"GrLivArea\":987},{\"SalePrice\":125000,\"GrLivArea\":912},{\"SalePrice\":192500,\"GrLivArea\":1555},{\"SalePrice\":148000,\"GrLivArea\":1194},{\"SalePrice\":403000,\"GrLivArea\":2794},{\"SalePrice\":94500,\"GrLivArea\":987},{\"SalePrice\":128200,\"GrLivArea\":894},{\"SalePrice\":216500,\"GrLivArea\":1960},{\"SalePrice\":89500,\"GrLivArea\":987},{\"SalePrice\":185500,\"GrLivArea\":1414},{\"SalePrice\":194500,\"GrLivArea\":1744},{\"SalePrice\":318000,\"GrLivArea\":1694},{\"SalePrice\":113000,\"GrLivArea\":1487},{\"SalePrice\":262500,\"GrLivArea\":1566},{\"SalePrice\":110500,\"GrLivArea\":866},{\"SalePrice\":79000,\"GrLivArea\":1440},{\"SalePrice\":120000,\"GrLivArea\":1217},{\"SalePrice\":205000,\"GrLivArea\":2110},{\"SalePrice\":241500,\"GrLivArea\":1872},{\"SalePrice\":137000,\"GrLivArea\":1928},{\"SalePrice\":140000,\"GrLivArea\":1375},{\"SalePrice\":180000,\"GrLivArea\":1668},{\"SalePrice\":277000,\"GrLivArea\":2144},{\"SalePrice\":76500,\"GrLivArea\":1306},{\"SalePrice\":235000,\"GrLivArea\":1625},{\"SalePrice\":173000,\"GrLivArea\":1640},{\"SalePrice\":158000,\"GrLivArea\":1302},{\"SalePrice\":145000,\"GrLivArea\":1314},{\"SalePrice\":230000,\"GrLivArea\":2291},{\"SalePrice\":207500,\"GrLivArea\":1728},{\"SalePrice\":220000,\"GrLivArea\":1604},{\"SalePrice\":231500,\"GrLivArea\":1792},{\"SalePrice\":97000,\"GrLivArea\":882},{\"SalePrice\":176000,\"GrLivArea\":1382},{\"SalePrice\":276000,\"GrLivArea\":2574},{\"SalePrice\":151000,\"GrLivArea\":1212},{\"SalePrice\":130000,\"GrLivArea\":1316},{\"SalePrice\":73000,\"GrLivArea\":764},{\"SalePrice\":175500,\"GrLivArea\":1422},{\"SalePrice\":185000,\"GrLivArea\":1511},{\"SalePrice\":179500,\"GrLivArea\":2192},{\"SalePrice\":120500,\"GrLivArea\":778},{\"SalePrice\":148000,\"GrLivArea\":1113},{\"SalePrice\":266000,\"GrLivArea\":1939},{\"SalePrice\":241500,\"GrLivArea\":1363},{\"SalePrice\":290000,\"GrLivArea\":2270},{\"SalePrice\":139000,\"GrLivArea\":1632},{\"SalePrice\":124500,\"GrLivArea\":816},{\"SalePrice\":205000,\"GrLivArea\":1548},{\"SalePrice\":201000,\"GrLivArea\":1560},{\"SalePrice\":141000,\"GrLivArea\":864},{\"SalePrice\":415298,\"GrLivArea\":2121},{\"SalePrice\":192000,\"GrLivArea\":2022},{\"SalePrice\":228500,\"GrLivArea\":1982},{\"SalePrice\":185000,\"GrLivArea\":1262},{\"SalePrice\":207500,\"GrLivArea\":1314},{\"SalePrice\":244600,\"GrLivArea\":1468},{\"SalePrice\":179200,\"GrLivArea\":1575},{\"SalePrice\":164700,\"GrLivArea\":1250},{\"SalePrice\":159000,\"GrLivArea\":1734},{\"SalePrice\":88000,\"GrLivArea\":858},{\"SalePrice\":122000,\"GrLivArea\":900},{\"SalePrice\":153575,\"GrLivArea\":1396},{\"SalePrice\":233230,\"GrLivArea\":1919},{\"SalePrice\":135900,\"GrLivArea\":1716},{\"SalePrice\":131000,\"GrLivArea\":1716},{\"SalePrice\":235000,\"GrLivArea\":2263},{\"SalePrice\":167000,\"GrLivArea\":1644},{\"SalePrice\":142500,\"GrLivArea\":1003},{\"SalePrice\":152000,\"GrLivArea\":1558},{\"SalePrice\":239000,\"GrLivArea\":1950},{\"SalePrice\":175000,\"GrLivArea\":1743},{\"SalePrice\":158500,\"GrLivArea\":1152},{\"SalePrice\":157000,\"GrLivArea\":1336},{\"SalePrice\":267000,\"GrLivArea\":2452},{\"SalePrice\":205000,\"GrLivArea\":1541},{\"SalePrice\":149900,\"GrLivArea\":894},{\"SalePrice\":295000,\"GrLivArea\":3493},{\"SalePrice\":305900,\"GrLivArea\":2000},{\"SalePrice\":225000,\"GrLivArea\":2243},{\"SalePrice\":89500,\"GrLivArea\":1406},{\"SalePrice\":82500,\"GrLivArea\":861},{\"SalePrice\":360000,\"GrLivArea\":1944},{\"SalePrice\":165600,\"GrLivArea\":1501},{\"SalePrice\":132000,\"GrLivArea\":972},{\"SalePrice\":119900,\"GrLivArea\":1118},{\"SalePrice\":375000,\"GrLivArea\":2036},{\"SalePrice\":178000,\"GrLivArea\":1641},{\"SalePrice\":188500,\"GrLivArea\":1432},{\"SalePrice\":260000,\"GrLivArea\":2353},{\"SalePrice\":270000,\"GrLivArea\":1959},{\"SalePrice\":260000,\"GrLivArea\":2646},{\"SalePrice\":187500,\"GrLivArea\":1472},{\"SalePrice\":342643,\"GrLivArea\":2596},{\"SalePrice\":354000,\"GrLivArea\":2468},{\"SalePrice\":301000,\"GrLivArea\":2730},{\"SalePrice\":126175,\"GrLivArea\":1163},{\"SalePrice\":242000,\"GrLivArea\":2978},{\"SalePrice\":87000,\"GrLivArea\":803},{\"SalePrice\":324000,\"GrLivArea\":1719},{\"SalePrice\":145250,\"GrLivArea\":1383},{\"SalePrice\":214500,\"GrLivArea\":2134},{\"SalePrice\":78000,\"GrLivArea\":1192},{\"SalePrice\":119000,\"GrLivArea\":1728},{\"SalePrice\":139000,\"GrLivArea\":1056},{\"SalePrice\":284000,\"GrLivArea\":1629},{\"SalePrice\":207000,\"GrLivArea\":1358},{\"SalePrice\":192000,\"GrLivArea\":1638},{\"SalePrice\":228950,\"GrLivArea\":1786},{\"SalePrice\":377426,\"GrLivArea\":1922},{\"SalePrice\":214000,\"GrLivArea\":1536},{\"SalePrice\":202500,\"GrLivArea\":1621},{\"SalePrice\":155000,\"GrLivArea\":1215},{\"SalePrice\":202900,\"GrLivArea\":1908},{\"SalePrice\":82000,\"GrLivArea\":841},{\"SalePrice\":87500,\"GrLivArea\":1040},{\"SalePrice\":266000,\"GrLivArea\":1684},{\"SalePrice\":85000,\"GrLivArea\":1112},{\"SalePrice\":140200,\"GrLivArea\":1577},{\"SalePrice\":151500,\"GrLivArea\":958},{\"SalePrice\":157500,\"GrLivArea\":1478},{\"SalePrice\":154000,\"GrLivArea\":1626},{\"SalePrice\":437154,\"GrLivArea\":2728},{\"SalePrice\":318061,\"GrLivArea\":1869},{\"SalePrice\":190000,\"GrLivArea\":1453},{\"SalePrice\":95000,\"GrLivArea\":1111},{\"SalePrice\":105900,\"GrLivArea\":720},{\"SalePrice\":140000,\"GrLivArea\":1595},{\"SalePrice\":177500,\"GrLivArea\":1200},{\"SalePrice\":173000,\"GrLivArea\":1167},{\"SalePrice\":134000,\"GrLivArea\":1142},{\"SalePrice\":130000,\"GrLivArea\":1352},{\"SalePrice\":280000,\"GrLivArea\":1924},{\"SalePrice\":156000,\"GrLivArea\":912},{\"SalePrice\":145000,\"GrLivArea\":1505},{\"SalePrice\":198500,\"GrLivArea\":1922},{\"SalePrice\":118000,\"GrLivArea\":987},{\"SalePrice\":190000,\"GrLivArea\":1574},{\"SalePrice\":147000,\"GrLivArea\":1344},{\"SalePrice\":159000,\"GrLivArea\":1394},{\"SalePrice\":165000,\"GrLivArea\":1431},{\"SalePrice\":132000,\"GrLivArea\":1268},{\"SalePrice\":162000,\"GrLivArea\":1287},{\"SalePrice\":172400,\"GrLivArea\":1664},{\"SalePrice\":134432,\"GrLivArea\":1588},{\"SalePrice\":125000,\"GrLivArea\":752},{\"SalePrice\":123000,\"GrLivArea\":1319},{\"SalePrice\":219500,\"GrLivArea\":1928},{\"SalePrice\":61000,\"GrLivArea\":904},{\"SalePrice\":148000,\"GrLivArea\":914},{\"SalePrice\":340000,\"GrLivArea\":2466},{\"SalePrice\":394432,\"GrLivArea\":1856},{\"SalePrice\":179000,\"GrLivArea\":1800},{\"SalePrice\":127000,\"GrLivArea\":1691},{\"SalePrice\":187750,\"GrLivArea\":1301},{\"SalePrice\":213500,\"GrLivArea\":1797},{\"SalePrice\":76000,\"GrLivArea\":784},{\"SalePrice\":240000,\"GrLivArea\":1953},{\"SalePrice\":192000,\"GrLivArea\":1269},{\"SalePrice\":81000,\"GrLivArea\":1184},{\"SalePrice\":125000,\"GrLivArea\":1125},{\"SalePrice\":191000,\"GrLivArea\":1479},{\"SalePrice\":426000,\"GrLivArea\":2332},{\"SalePrice\":119000,\"GrLivArea\":1367},{\"SalePrice\":215000,\"GrLivArea\":1961},{\"SalePrice\":106500,\"GrLivArea\":882},{\"SalePrice\":100000,\"GrLivArea\":788},{\"SalePrice\":109000,\"GrLivArea\":1034},{\"SalePrice\":129000,\"GrLivArea\":1144},{\"SalePrice\":123000,\"GrLivArea\":894},{\"SalePrice\":169500,\"GrLivArea\":1812},{\"SalePrice\":67000,\"GrLivArea\":1077},{\"SalePrice\":241000,\"GrLivArea\":1550},{\"SalePrice\":245500,\"GrLivArea\":1288},{\"SalePrice\":164990,\"GrLivArea\":1310},{\"SalePrice\":108000,\"GrLivArea\":672},{\"SalePrice\":258000,\"GrLivArea\":2263},{\"SalePrice\":168000,\"GrLivArea\":1572},{\"SalePrice\":150000,\"GrLivArea\":1620},{\"SalePrice\":115000,\"GrLivArea\":1639},{\"SalePrice\":177000,\"GrLivArea\":1680},{\"SalePrice\":280000,\"GrLivArea\":2172},{\"SalePrice\":339750,\"GrLivArea\":2078},{\"SalePrice\":60000,\"GrLivArea\":1276},{\"SalePrice\":145000,\"GrLivArea\":1056},{\"SalePrice\":222000,\"GrLivArea\":1478},{\"SalePrice\":115000,\"GrLivArea\":1028},{\"SalePrice\":228000,\"GrLivArea\":2097},{\"SalePrice\":181134,\"GrLivArea\":1340},{\"SalePrice\":149500,\"GrLivArea\":1400},{\"SalePrice\":239000,\"GrLivArea\":2624},{\"SalePrice\":126000,\"GrLivArea\":1134},{\"SalePrice\":142000,\"GrLivArea\":1056},{\"SalePrice\":206300,\"GrLivArea\":1344},{\"SalePrice\":215000,\"GrLivArea\":1602},{\"SalePrice\":113000,\"GrLivArea\":988},{\"SalePrice\":315000,\"GrLivArea\":2630},{\"SalePrice\":139000,\"GrLivArea\":1196},{\"SalePrice\":135000,\"GrLivArea\":1389},{\"SalePrice\":275000,\"GrLivArea\":1644},{\"SalePrice\":109008,\"GrLivArea\":907},{\"SalePrice\":195400,\"GrLivArea\":1208},{\"SalePrice\":175000,\"GrLivArea\":1412},{\"SalePrice\":85400,\"GrLivArea\":987},{\"SalePrice\":79900,\"GrLivArea\":1198},{\"SalePrice\":122500,\"GrLivArea\":1365},{\"SalePrice\":181000,\"GrLivArea\":1604},{\"SalePrice\":81000,\"GrLivArea\":630},{\"SalePrice\":212000,\"GrLivArea\":1661},{\"SalePrice\":116000,\"GrLivArea\":1118},{\"SalePrice\":119000,\"GrLivArea\":904},{\"SalePrice\":90350,\"GrLivArea\":694},{\"SalePrice\":110000,\"GrLivArea\":1196},{\"SalePrice\":555000,\"GrLivArea\":2402},{\"SalePrice\":118000,\"GrLivArea\":1440},{\"SalePrice\":162900,\"GrLivArea\":1573},{\"SalePrice\":172500,\"GrLivArea\":1258},{\"SalePrice\":210000,\"GrLivArea\":1908},{\"SalePrice\":127500,\"GrLivArea\":1689},{\"SalePrice\":190000,\"GrLivArea\":1888},{\"SalePrice\":199900,\"GrLivArea\":1886},{\"SalePrice\":119500,\"GrLivArea\":1376},{\"SalePrice\":120000,\"GrLivArea\":1183},{\"SalePrice\":110000,\"GrLivArea\":813},{\"SalePrice\":280000,\"GrLivArea\":1533},{\"SalePrice\":204000,\"GrLivArea\":1756},{\"SalePrice\":210000,\"GrLivArea\":1590},{\"SalePrice\":188000,\"GrLivArea\":1728},{\"SalePrice\":175500,\"GrLivArea\":1242},{\"SalePrice\":98000,\"GrLivArea\":1344},{\"SalePrice\":256000,\"GrLivArea\":1663},{\"SalePrice\":161000,\"GrLivArea\":1666},{\"SalePrice\":110000,\"GrLivArea\":1203},{\"SalePrice\":263435,\"GrLivArea\":1935},{\"SalePrice\":155000,\"GrLivArea\":1135},{\"SalePrice\":62383,\"GrLivArea\":864},{\"SalePrice\":188700,\"GrLivArea\":1660},{\"SalePrice\":124000,\"GrLivArea\":1040},{\"SalePrice\":178740,\"GrLivArea\":1414},{\"SalePrice\":167000,\"GrLivArea\":1277},{\"SalePrice\":146500,\"GrLivArea\":1644},{\"SalePrice\":250000,\"GrLivArea\":1634},{\"SalePrice\":187000,\"GrLivArea\":1710},{\"SalePrice\":212000,\"GrLivArea\":1502},{\"SalePrice\":190000,\"GrLivArea\":1969},{\"SalePrice\":148000,\"GrLivArea\":1072},{\"SalePrice\":440000,\"GrLivArea\":1976},{\"SalePrice\":251000,\"GrLivArea\":1652},{\"SalePrice\":132500,\"GrLivArea\":970},{\"SalePrice\":208900,\"GrLivArea\":1493},{\"SalePrice\":380000,\"GrLivArea\":2643},{\"SalePrice\":297000,\"GrLivArea\":1718},{\"SalePrice\":89471,\"GrLivArea\":1131},{\"SalePrice\":326000,\"GrLivArea\":1850},{\"SalePrice\":374000,\"GrLivArea\":1792},{\"SalePrice\":155000,\"GrLivArea\":1826},{\"SalePrice\":164000,\"GrLivArea\":1216},{\"SalePrice\":132500,\"GrLivArea\":999},{\"SalePrice\":147000,\"GrLivArea\":1113},{\"SalePrice\":156000,\"GrLivArea\":1073},{\"SalePrice\":175000,\"GrLivArea\":1484},{\"SalePrice\":160000,\"GrLivArea\":2414},{\"SalePrice\":86000,\"GrLivArea\":630},{\"SalePrice\":115000,\"GrLivArea\":1304},{\"SalePrice\":133000,\"GrLivArea\":1578},{\"SalePrice\":172785,\"GrLivArea\":1456},{\"SalePrice\":155000,\"GrLivArea\":1269},{\"SalePrice\":91300,\"GrLivArea\":886},{\"SalePrice\":34900,\"GrLivArea\":720},{\"SalePrice\":430000,\"GrLivArea\":3228},{\"SalePrice\":184000,\"GrLivArea\":1820},{\"SalePrice\":130000,\"GrLivArea\":899},{\"SalePrice\":120000,\"GrLivArea\":912},{\"SalePrice\":113000,\"GrLivArea\":1218},{\"SalePrice\":226700,\"GrLivArea\":1768},{\"SalePrice\":140000,\"GrLivArea\":1214},{\"SalePrice\":289000,\"GrLivArea\":1801},{\"SalePrice\":147000,\"GrLivArea\":1322},{\"SalePrice\":124500,\"GrLivArea\":1960},{\"SalePrice\":215000,\"GrLivArea\":1911},{\"SalePrice\":208300,\"GrLivArea\":1218},{\"SalePrice\":161000,\"GrLivArea\":1378},{\"SalePrice\":124500,\"GrLivArea\":1041},{\"SalePrice\":164900,\"GrLivArea\":1363},{\"SalePrice\":202665,\"GrLivArea\":1368},{\"SalePrice\":129900,\"GrLivArea\":864},{\"SalePrice\":134000,\"GrLivArea\":1080},{\"SalePrice\":96500,\"GrLivArea\":789},{\"SalePrice\":402861,\"GrLivArea\":2020},{\"SalePrice\":158000,\"GrLivArea\":2119},{\"SalePrice\":265000,\"GrLivArea\":2344},{\"SalePrice\":211000,\"GrLivArea\":1796},{\"SalePrice\":234000,\"GrLivArea\":2080},{\"SalePrice\":106250,\"GrLivArea\":1294},{\"SalePrice\":150000,\"GrLivArea\":1244},{\"SalePrice\":159000,\"GrLivArea\":1664},{\"SalePrice\":184750,\"GrLivArea\":4676},{\"SalePrice\":315750,\"GrLivArea\":2398},{\"SalePrice\":176000,\"GrLivArea\":1266},{\"SalePrice\":132000,\"GrLivArea\":928},{\"SalePrice\":446261,\"GrLivArea\":2713},{\"SalePrice\":86000,\"GrLivArea\":605},{\"SalePrice\":200624,\"GrLivArea\":2515},{\"SalePrice\":175000,\"GrLivArea\":1509},{\"SalePrice\":128000,\"GrLivArea\":1362},{\"SalePrice\":107500,\"GrLivArea\":827},{\"SalePrice\":39300,\"GrLivArea\":334},{\"SalePrice\":178000,\"GrLivArea\":1414},{\"SalePrice\":107500,\"GrLivArea\":1347},{\"SalePrice\":188000,\"GrLivArea\":1724},{\"SalePrice\":111250,\"GrLivArea\":864},{\"SalePrice\":158000,\"GrLivArea\":1159},{\"SalePrice\":272000,\"GrLivArea\":1601},{\"SalePrice\":315000,\"GrLivArea\":1838},{\"SalePrice\":248000,\"GrLivArea\":2285},{\"SalePrice\":213250,\"GrLivArea\":1680},{\"SalePrice\":133000,\"GrLivArea\":767},{\"SalePrice\":179665,\"GrLivArea\":1496},{\"SalePrice\":229000,\"GrLivArea\":2183},{\"SalePrice\":210000,\"GrLivArea\":1635},{\"SalePrice\":129500,\"GrLivArea\":768},{\"SalePrice\":125000,\"GrLivArea\":825},{\"SalePrice\":263000,\"GrLivArea\":2094},{\"SalePrice\":140000,\"GrLivArea\":1069},{\"SalePrice\":112500,\"GrLivArea\":928},{\"SalePrice\":255500,\"GrLivArea\":1717},{\"SalePrice\":108000,\"GrLivArea\":1126},{\"SalePrice\":284000,\"GrLivArea\":2046},{\"SalePrice\":113000,\"GrLivArea\":1048},{\"SalePrice\":141000,\"GrLivArea\":1092},{\"SalePrice\":108000,\"GrLivArea\":1336},{\"SalePrice\":175000,\"GrLivArea\":1446},{\"SalePrice\":234000,\"GrLivArea\":1557},{\"SalePrice\":121500,\"GrLivArea\":1392},{\"SalePrice\":170000,\"GrLivArea\":1389},{\"SalePrice\":108000,\"GrLivArea\":996},{\"SalePrice\":185000,\"GrLivArea\":1674},{\"SalePrice\":268000,\"GrLivArea\":2295},{\"SalePrice\":128000,\"GrLivArea\":1647},{\"SalePrice\":325000,\"GrLivArea\":2504},{\"SalePrice\":214000,\"GrLivArea\":1535},{\"SalePrice\":316600,\"GrLivArea\":2132},{\"SalePrice\":135960,\"GrLivArea\":943},{\"SalePrice\":142600,\"GrLivArea\":1728},{\"SalePrice\":120000,\"GrLivArea\":864},{\"SalePrice\":224500,\"GrLivArea\":1692},{\"SalePrice\":170000,\"GrLivArea\":1430},{\"SalePrice\":139000,\"GrLivArea\":1109},{\"SalePrice\":118500,\"GrLivArea\":1216},{\"SalePrice\":145000,\"GrLivArea\":1477},{\"SalePrice\":164500,\"GrLivArea\":1320},{\"SalePrice\":146000,\"GrLivArea\":1392},{\"SalePrice\":131500,\"GrLivArea\":1795},{\"SalePrice\":181900,\"GrLivArea\":1429},{\"SalePrice\":253293,\"GrLivArea\":2042},{\"SalePrice\":118500,\"GrLivArea\":816},{\"SalePrice\":325000,\"GrLivArea\":2775},{\"SalePrice\":133000,\"GrLivArea\":1573},{\"SalePrice\":369900,\"GrLivArea\":2028},{\"SalePrice\":130000,\"GrLivArea\":838},{\"SalePrice\":137000,\"GrLivArea\":860},{\"SalePrice\":143000,\"GrLivArea\":1473},{\"SalePrice\":79500,\"GrLivArea\":935},{\"SalePrice\":185900,\"GrLivArea\":1582},{\"SalePrice\":451950,\"GrLivArea\":2296},{\"SalePrice\":138000,\"GrLivArea\":816},{\"SalePrice\":140000,\"GrLivArea\":848},{\"SalePrice\":110000,\"GrLivArea\":924},{\"SalePrice\":319000,\"GrLivArea\":1826},{\"SalePrice\":114504,\"GrLivArea\":1368},{\"SalePrice\":194201,\"GrLivArea\":1402},{\"SalePrice\":217500,\"GrLivArea\":1647},{\"SalePrice\":151000,\"GrLivArea\":1556},{\"SalePrice\":275000,\"GrLivArea\":1904},{\"SalePrice\":141000,\"GrLivArea\":1375},{\"SalePrice\":220000,\"GrLivArea\":1915},{\"SalePrice\":151000,\"GrLivArea\":1200},{\"SalePrice\":221000,\"GrLivArea\":1494},{\"SalePrice\":205000,\"GrLivArea\":1986},{\"SalePrice\":152000,\"GrLivArea\":1040},{\"SalePrice\":225000,\"GrLivArea\":2008},{\"SalePrice\":359100,\"GrLivArea\":3194},{\"SalePrice\":118500,\"GrLivArea\":1029},{\"SalePrice\":313000,\"GrLivArea\":2153},{\"SalePrice\":148000,\"GrLivArea\":1032},{\"SalePrice\":261500,\"GrLivArea\":1872},{\"SalePrice\":147000,\"GrLivArea\":1120},{\"SalePrice\":75500,\"GrLivArea\":630},{\"SalePrice\":137500,\"GrLivArea\":1054},{\"SalePrice\":183200,\"GrLivArea\":1509},{\"SalePrice\":105500,\"GrLivArea\":832},{\"SalePrice\":314813,\"GrLivArea\":1828},{\"SalePrice\":305000,\"GrLivArea\":2262},{\"SalePrice\":67000,\"GrLivArea\":864},{\"SalePrice\":240000,\"GrLivArea\":2614},{\"SalePrice\":135000,\"GrLivArea\":980},{\"SalePrice\":168500,\"GrLivArea\":1512},{\"SalePrice\":165150,\"GrLivArea\":1790},{\"SalePrice\":160000,\"GrLivArea\":1116},{\"SalePrice\":139900,\"GrLivArea\":1422},{\"SalePrice\":153000,\"GrLivArea\":1520},{\"SalePrice\":135000,\"GrLivArea\":2080},{\"SalePrice\":168500,\"GrLivArea\":1350},{\"SalePrice\":124000,\"GrLivArea\":1750},{\"SalePrice\":209500,\"GrLivArea\":1554},{\"SalePrice\":82500,\"GrLivArea\":1411},{\"SalePrice\":139400,\"GrLivArea\":1056},{\"SalePrice\":144000,\"GrLivArea\":1056},{\"SalePrice\":200000,\"GrLivArea\":3395},{\"SalePrice\":60000,\"GrLivArea\":800},{\"SalePrice\":93000,\"GrLivArea\":1387},{\"SalePrice\":85000,\"GrLivArea\":796},{\"SalePrice\":264561,\"GrLivArea\":1567},{\"SalePrice\":274000,\"GrLivArea\":1518},{\"SalePrice\":226000,\"GrLivArea\":1929},{\"SalePrice\":345000,\"GrLivArea\":2704},{\"SalePrice\":152000,\"GrLivArea\":1620},{\"SalePrice\":370878,\"GrLivArea\":1766},{\"SalePrice\":143250,\"GrLivArea\":981},{\"SalePrice\":98300,\"GrLivArea\":1048},{\"SalePrice\":155000,\"GrLivArea\":1094},{\"SalePrice\":155000,\"GrLivArea\":1839},{\"SalePrice\":84500,\"GrLivArea\":630},{\"SalePrice\":205950,\"GrLivArea\":1665},{\"SalePrice\":108000,\"GrLivArea\":1510},{\"SalePrice\":191000,\"GrLivArea\":1716},{\"SalePrice\":135000,\"GrLivArea\":1469},{\"SalePrice\":350000,\"GrLivArea\":2113},{\"SalePrice\":88000,\"GrLivArea\":1092},{\"SalePrice\":145500,\"GrLivArea\":1053},{\"SalePrice\":149000,\"GrLivArea\":1502},{\"SalePrice\":97500,\"GrLivArea\":1458},{\"SalePrice\":167000,\"GrLivArea\":1486},{\"SalePrice\":197900,\"GrLivArea\":1935},{\"SalePrice\":402000,\"GrLivArea\":2448},{\"SalePrice\":110000,\"GrLivArea\":1392},{\"SalePrice\":137500,\"GrLivArea\":1181},{\"SalePrice\":423000,\"GrLivArea\":2097},{\"SalePrice\":230500,\"GrLivArea\":1936},{\"SalePrice\":129000,\"GrLivArea\":2380},{\"SalePrice\":193500,\"GrLivArea\":1679},{\"SalePrice\":168000,\"GrLivArea\":1437},{\"SalePrice\":137500,\"GrLivArea\":1180},{\"SalePrice\":173500,\"GrLivArea\":1476},{\"SalePrice\":103600,\"GrLivArea\":1369},{\"SalePrice\":165000,\"GrLivArea\":1208},{\"SalePrice\":257500,\"GrLivArea\":1839},{\"SalePrice\":140000,\"GrLivArea\":1136},{\"SalePrice\":148500,\"GrLivArea\":1441},{\"SalePrice\":87000,\"GrLivArea\":1774},{\"SalePrice\":109500,\"GrLivArea\":792},{\"SalePrice\":372500,\"GrLivArea\":2046},{\"SalePrice\":128500,\"GrLivArea\":988},{\"SalePrice\":143000,\"GrLivArea\":923},{\"SalePrice\":159434,\"GrLivArea\":1520},{\"SalePrice\":173000,\"GrLivArea\":1291},{\"SalePrice\":285000,\"GrLivArea\":1668},{\"SalePrice\":221000,\"GrLivArea\":1839},{\"SalePrice\":207500,\"GrLivArea\":2090},{\"SalePrice\":227875,\"GrLivArea\":1761},{\"SalePrice\":148800,\"GrLivArea\":1102},{\"SalePrice\":392000,\"GrLivArea\":1419},{\"SalePrice\":194700,\"GrLivArea\":1362},{\"SalePrice\":141000,\"GrLivArea\":848},{\"SalePrice\":755000,\"GrLivArea\":4316},{\"SalePrice\":335000,\"GrLivArea\":2519},{\"SalePrice\":108480,\"GrLivArea\":1073},{\"SalePrice\":141500,\"GrLivArea\":1539},{\"SalePrice\":176000,\"GrLivArea\":1137},{\"SalePrice\":89000,\"GrLivArea\":616},{\"SalePrice\":123500,\"GrLivArea\":1148},{\"SalePrice\":138500,\"GrLivArea\":894},{\"SalePrice\":196000,\"GrLivArea\":1391},{\"SalePrice\":312500,\"GrLivArea\":1800},{\"SalePrice\":140000,\"GrLivArea\":1164},{\"SalePrice\":361919,\"GrLivArea\":2576},{\"SalePrice\":140000,\"GrLivArea\":1812},{\"SalePrice\":213000,\"GrLivArea\":1484},{\"SalePrice\":55000,\"GrLivArea\":1092},{\"SalePrice\":302000,\"GrLivArea\":1824},{\"SalePrice\":254000,\"GrLivArea\":1324},{\"SalePrice\":179540,\"GrLivArea\":1456},{\"SalePrice\":109900,\"GrLivArea\":904},{\"SalePrice\":52000,\"GrLivArea\":729},{\"SalePrice\":102776,\"GrLivArea\":1178},{\"SalePrice\":189000,\"GrLivArea\":1228},{\"SalePrice\":129000,\"GrLivArea\":960},{\"SalePrice\":130500,\"GrLivArea\":1479},{\"SalePrice\":165000,\"GrLivArea\":1350},{\"SalePrice\":159500,\"GrLivArea\":2554},{\"SalePrice\":157000,\"GrLivArea\":1178},{\"SalePrice\":341000,\"GrLivArea\":2418},{\"SalePrice\":128500,\"GrLivArea\":971},{\"SalePrice\":275000,\"GrLivArea\":1742},{\"SalePrice\":143000,\"GrLivArea\":848},{\"SalePrice\":124500,\"GrLivArea\":864},{\"SalePrice\":135000,\"GrLivArea\":1470},{\"SalePrice\":320000,\"GrLivArea\":1698},{\"SalePrice\":120500,\"GrLivArea\":864},{\"SalePrice\":222000,\"GrLivArea\":1680},{\"SalePrice\":194500,\"GrLivArea\":1232},{\"SalePrice\":110000,\"GrLivArea\":1776},{\"SalePrice\":103000,\"GrLivArea\":1208},{\"SalePrice\":236500,\"GrLivArea\":1616},{\"SalePrice\":187500,\"GrLivArea\":1146},{\"SalePrice\":222500,\"GrLivArea\":2031},{\"SalePrice\":131400,\"GrLivArea\":1144},{\"SalePrice\":108000,\"GrLivArea\":948},{\"SalePrice\":163000,\"GrLivArea\":1768},{\"SalePrice\":93500,\"GrLivArea\":1040},{\"SalePrice\":239900,\"GrLivArea\":1801},{\"SalePrice\":179000,\"GrLivArea\":1200},{\"SalePrice\":190000,\"GrLivArea\":1728},{\"SalePrice\":132000,\"GrLivArea\":1432},{\"SalePrice\":142000,\"GrLivArea\":912},{\"SalePrice\":179000,\"GrLivArea\":1349},{\"SalePrice\":175000,\"GrLivArea\":1464},{\"SalePrice\":180000,\"GrLivArea\":1337},{\"SalePrice\":299800,\"GrLivArea\":2715},{\"SalePrice\":236000,\"GrLivArea\":2256},{\"SalePrice\":265979,\"GrLivArea\":2640},{\"SalePrice\":260400,\"GrLivArea\":1720},{\"SalePrice\":98000,\"GrLivArea\":1529},{\"SalePrice\":96500,\"GrLivArea\":1140},{\"SalePrice\":162000,\"GrLivArea\":1320},{\"SalePrice\":217000,\"GrLivArea\":1494},{\"SalePrice\":275500,\"GrLivArea\":2098},{\"SalePrice\":156000,\"GrLivArea\":1026},{\"SalePrice\":172500,\"GrLivArea\":1471},{\"SalePrice\":212000,\"GrLivArea\":1768},{\"SalePrice\":158900,\"GrLivArea\":1386},{\"SalePrice\":179400,\"GrLivArea\":1501},{\"SalePrice\":290000,\"GrLivArea\":2531},{\"SalePrice\":127500,\"GrLivArea\":864},{\"SalePrice\":100000,\"GrLivArea\":1301},{\"SalePrice\":215200,\"GrLivArea\":1547},{\"SalePrice\":337000,\"GrLivArea\":2365},{\"SalePrice\":270000,\"GrLivArea\":1494},{\"SalePrice\":264132,\"GrLivArea\":1506},{\"SalePrice\":196500,\"GrLivArea\":1714},{\"SalePrice\":160000,\"GrLivArea\":1750},{\"SalePrice\":216837,\"GrLivArea\":1836},{\"SalePrice\":538000,\"GrLivArea\":3279},{\"SalePrice\":134900,\"GrLivArea\":858},{\"SalePrice\":102000,\"GrLivArea\":1220},{\"SalePrice\":107000,\"GrLivArea\":1117},{\"SalePrice\":114500,\"GrLivArea\":912},{\"SalePrice\":395000,\"GrLivArea\":1973},{\"SalePrice\":162000,\"GrLivArea\":1204},{\"SalePrice\":221500,\"GrLivArea\":1614},{\"SalePrice\":142500,\"GrLivArea\":894},{\"SalePrice\":144000,\"GrLivArea\":2020},{\"SalePrice\":135000,\"GrLivArea\":1004},{\"SalePrice\":176000,\"GrLivArea\":1253},{\"SalePrice\":175900,\"GrLivArea\":1603},{\"SalePrice\":187100,\"GrLivArea\":1430},{\"SalePrice\":165500,\"GrLivArea\":1110},{\"SalePrice\":128000,\"GrLivArea\":1484},{\"SalePrice\":161500,\"GrLivArea\":1342},{\"SalePrice\":139000,\"GrLivArea\":1652},{\"SalePrice\":233000,\"GrLivArea\":2084},{\"SalePrice\":107900,\"GrLivArea\":901},{\"SalePrice\":187500,\"GrLivArea\":2087},{\"SalePrice\":160200,\"GrLivArea\":1145},{\"SalePrice\":146800,\"GrLivArea\":1062},{\"SalePrice\":269790,\"GrLivArea\":2013},{\"SalePrice\":225000,\"GrLivArea\":1496},{\"SalePrice\":194500,\"GrLivArea\":1895},{\"SalePrice\":171000,\"GrLivArea\":1564},{\"SalePrice\":143500,\"GrLivArea\":1285},{\"SalePrice\":110000,\"GrLivArea\":773},{\"SalePrice\":485000,\"GrLivArea\":3140},{\"SalePrice\":175000,\"GrLivArea\":1768},{\"SalePrice\":200000,\"GrLivArea\":1688},{\"SalePrice\":109900,\"GrLivArea\":1196},{\"SalePrice\":189000,\"GrLivArea\":1456},{\"SalePrice\":582933,\"GrLivArea\":2822},{\"SalePrice\":118000,\"GrLivArea\":1128},{\"SalePrice\":227680,\"GrLivArea\":1428},{\"SalePrice\":135500,\"GrLivArea\":980},{\"SalePrice\":223500,\"GrLivArea\":1576},{\"SalePrice\":159950,\"GrLivArea\":1086},{\"SalePrice\":106000,\"GrLivArea\":2138},{\"SalePrice\":181000,\"GrLivArea\":1309},{\"SalePrice\":144500,\"GrLivArea\":848},{\"SalePrice\":55993,\"GrLivArea\":1044},{\"SalePrice\":157900,\"GrLivArea\":1442},{\"SalePrice\":116000,\"GrLivArea\":1250},{\"SalePrice\":224900,\"GrLivArea\":1661},{\"SalePrice\":137000,\"GrLivArea\":1008},{\"SalePrice\":271000,\"GrLivArea\":1689},{\"SalePrice\":155000,\"GrLivArea\":1052},{\"SalePrice\":224000,\"GrLivArea\":1358},{\"SalePrice\":183000,\"GrLivArea\":1640},{\"SalePrice\":93000,\"GrLivArea\":936},{\"SalePrice\":225000,\"GrLivArea\":1733},{\"SalePrice\":139500,\"GrLivArea\":1489},{\"SalePrice\":232600,\"GrLivArea\":1489},{\"SalePrice\":385000,\"GrLivArea\":2084},{\"SalePrice\":109500,\"GrLivArea\":784},{\"SalePrice\":189000,\"GrLivArea\":1434},{\"SalePrice\":185000,\"GrLivArea\":2126},{\"SalePrice\":147400,\"GrLivArea\":1223},{\"SalePrice\":166000,\"GrLivArea\":1392},{\"SalePrice\":151000,\"GrLivArea\":1200},{\"SalePrice\":237000,\"GrLivArea\":1829},{\"SalePrice\":167000,\"GrLivArea\":1516},{\"SalePrice\":139950,\"GrLivArea\":1144},{\"SalePrice\":128000,\"GrLivArea\":1067},{\"SalePrice\":153500,\"GrLivArea\":1559},{\"SalePrice\":100000,\"GrLivArea\":987},{\"SalePrice\":144000,\"GrLivArea\":1099},{\"SalePrice\":130500,\"GrLivArea\":1200},{\"SalePrice\":140000,\"GrLivArea\":1482},{\"SalePrice\":157500,\"GrLivArea\":1539},{\"SalePrice\":174900,\"GrLivArea\":1165},{\"SalePrice\":141000,\"GrLivArea\":1800},{\"SalePrice\":153900,\"GrLivArea\":1416},{\"SalePrice\":171000,\"GrLivArea\":1701},{\"SalePrice\":213000,\"GrLivArea\":1775},{\"SalePrice\":133500,\"GrLivArea\":864},{\"SalePrice\":240000,\"GrLivArea\":2358},{\"SalePrice\":187000,\"GrLivArea\":1855},{\"SalePrice\":131500,\"GrLivArea\":848},{\"SalePrice\":215000,\"GrLivArea\":1456},{\"SalePrice\":164000,\"GrLivArea\":1646},{\"SalePrice\":158000,\"GrLivArea\":1445},{\"SalePrice\":170000,\"GrLivArea\":1779},{\"SalePrice\":127000,\"GrLivArea\":1040},{\"SalePrice\":147000,\"GrLivArea\":1026},{\"SalePrice\":174000,\"GrLivArea\":1481},{\"SalePrice\":152000,\"GrLivArea\":1370},{\"SalePrice\":250000,\"GrLivArea\":2654},{\"SalePrice\":189950,\"GrLivArea\":1426},{\"SalePrice\":131500,\"GrLivArea\":1039},{\"SalePrice\":152000,\"GrLivArea\":1097},{\"SalePrice\":132500,\"GrLivArea\":1148},{\"SalePrice\":250580,\"GrLivArea\":1372},{\"SalePrice\":148500,\"GrLivArea\":1002},{\"SalePrice\":248900,\"GrLivArea\":1646},{\"SalePrice\":129000,\"GrLivArea\":1120},{\"SalePrice\":169000,\"GrLivArea\":2320},{\"SalePrice\":236000,\"GrLivArea\":1949},{\"SalePrice\":109500,\"GrLivArea\":894},{\"SalePrice\":200500,\"GrLivArea\":1682},{\"SalePrice\":116000,\"GrLivArea\":910},{\"SalePrice\":133000,\"GrLivArea\":1268},{\"SalePrice\":66500,\"GrLivArea\":1131},{\"SalePrice\":303477,\"GrLivArea\":2610},{\"SalePrice\":132250,\"GrLivArea\":1040},{\"SalePrice\":350000,\"GrLivArea\":2224},{\"SalePrice\":148000,\"GrLivArea\":1155},{\"SalePrice\":136500,\"GrLivArea\":864},{\"SalePrice\":157000,\"GrLivArea\":1090},{\"SalePrice\":187500,\"GrLivArea\":1717},{\"SalePrice\":178000,\"GrLivArea\":1593},{\"SalePrice\":118500,\"GrLivArea\":2230},{\"SalePrice\":100000,\"GrLivArea\":892},{\"SalePrice\":328900,\"GrLivArea\":1709},{\"SalePrice\":145000,\"GrLivArea\":1712},{\"SalePrice\":135500,\"GrLivArea\":1393},{\"SalePrice\":268000,\"GrLivArea\":2217},{\"SalePrice\":149500,\"GrLivArea\":1505},{\"SalePrice\":122900,\"GrLivArea\":924},{\"SalePrice\":172500,\"GrLivArea\":1683},{\"SalePrice\":154500,\"GrLivArea\":1068},{\"SalePrice\":165000,\"GrLivArea\":1383},{\"SalePrice\":118858,\"GrLivArea\":1535},{\"SalePrice\":140000,\"GrLivArea\":1796},{\"SalePrice\":106500,\"GrLivArea\":951},{\"SalePrice\":142953,\"GrLivArea\":2240},{\"SalePrice\":611657,\"GrLivArea\":2364},{\"SalePrice\":135000,\"GrLivArea\":1236},{\"SalePrice\":110000,\"GrLivArea\":858},{\"SalePrice\":153000,\"GrLivArea\":1306},{\"SalePrice\":180000,\"GrLivArea\":1509},{\"SalePrice\":240000,\"GrLivArea\":1670},{\"SalePrice\":125500,\"GrLivArea\":902},{\"SalePrice\":128000,\"GrLivArea\":1063},{\"SalePrice\":255000,\"GrLivArea\":1636},{\"SalePrice\":250000,\"GrLivArea\":2057},{\"SalePrice\":131000,\"GrLivArea\":902},{\"SalePrice\":174000,\"GrLivArea\":1484},{\"SalePrice\":154300,\"GrLivArea\":2274},{\"SalePrice\":143500,\"GrLivArea\":1268},{\"SalePrice\":88000,\"GrLivArea\":1015},{\"SalePrice\":145000,\"GrLivArea\":2002},{\"SalePrice\":173733,\"GrLivArea\":1224},{\"SalePrice\":75000,\"GrLivArea\":1092},{\"SalePrice\":35311,\"GrLivArea\":480},{\"SalePrice\":135000,\"GrLivArea\":1229},{\"SalePrice\":238000,\"GrLivArea\":2127},{\"SalePrice\":176500,\"GrLivArea\":1414},{\"SalePrice\":201000,\"GrLivArea\":1721},{\"SalePrice\":145900,\"GrLivArea\":2200},{\"SalePrice\":169990,\"GrLivArea\":1316},{\"SalePrice\":193000,\"GrLivArea\":1617},{\"SalePrice\":207500,\"GrLivArea\":1686},{\"SalePrice\":175000,\"GrLivArea\":1126},{\"SalePrice\":285000,\"GrLivArea\":2374},{\"SalePrice\":176000,\"GrLivArea\":1978},{\"SalePrice\":236500,\"GrLivArea\":1788},{\"SalePrice\":222000,\"GrLivArea\":2236},{\"SalePrice\":201000,\"GrLivArea\":1466},{\"SalePrice\":117500,\"GrLivArea\":925},{\"SalePrice\":320000,\"GrLivArea\":1905},{\"SalePrice\":190000,\"GrLivArea\":1500},{\"SalePrice\":242000,\"GrLivArea\":2069},{\"SalePrice\":79900,\"GrLivArea\":747},{\"SalePrice\":184900,\"GrLivArea\":1200},{\"SalePrice\":253000,\"GrLivArea\":1971},{\"SalePrice\":239799,\"GrLivArea\":1962},{\"SalePrice\":244400,\"GrLivArea\":2403},{\"SalePrice\":150900,\"GrLivArea\":1728},{\"SalePrice\":214000,\"GrLivArea\":2060},{\"SalePrice\":150000,\"GrLivArea\":1440},{\"SalePrice\":143000,\"GrLivArea\":1632},{\"SalePrice\":137500,\"GrLivArea\":1344},{\"SalePrice\":124900,\"GrLivArea\":1869},{\"SalePrice\":143000,\"GrLivArea\":1144},{\"SalePrice\":270000,\"GrLivArea\":1629},{\"SalePrice\":192500,\"GrLivArea\":1776},{\"SalePrice\":197500,\"GrLivArea\":1381},{\"SalePrice\":129000,\"GrLivArea\":864},{\"SalePrice\":119900,\"GrLivArea\":965},{\"SalePrice\":133900,\"GrLivArea\":768},{\"SalePrice\":172000,\"GrLivArea\":1968},{\"SalePrice\":127500,\"GrLivArea\":980},{\"SalePrice\":145000,\"GrLivArea\":1958},{\"SalePrice\":124000,\"GrLivArea\":1229},{\"SalePrice\":132000,\"GrLivArea\":1057},{\"SalePrice\":185000,\"GrLivArea\":1337},{\"SalePrice\":155000,\"GrLivArea\":1416},{\"SalePrice\":116500,\"GrLivArea\":858},{\"SalePrice\":272000,\"GrLivArea\":2872},{\"SalePrice\":155000,\"GrLivArea\":1548},{\"SalePrice\":239000,\"GrLivArea\":1800},{\"SalePrice\":214900,\"GrLivArea\":1894},{\"SalePrice\":178900,\"GrLivArea\":1484},{\"SalePrice\":160000,\"GrLivArea\":1308},{\"SalePrice\":135000,\"GrLivArea\":1098},{\"SalePrice\":37900,\"GrLivArea\":968},{\"SalePrice\":140000,\"GrLivArea\":1095},{\"SalePrice\":135000,\"GrLivArea\":1192},{\"SalePrice\":173000,\"GrLivArea\":1626},{\"SalePrice\":99500,\"GrLivArea\":918},{\"SalePrice\":182000,\"GrLivArea\":1428},{\"SalePrice\":167500,\"GrLivArea\":2019},{\"SalePrice\":165000,\"GrLivArea\":1382},{\"SalePrice\":85500,\"GrLivArea\":869},{\"SalePrice\":199900,\"GrLivArea\":1241},{\"SalePrice\":110000,\"GrLivArea\":894},{\"SalePrice\":139000,\"GrLivArea\":1121},{\"SalePrice\":178400,\"GrLivArea\":999},{\"SalePrice\":336000,\"GrLivArea\":2612},{\"SalePrice\":159895,\"GrLivArea\":1266},{\"SalePrice\":255900,\"GrLivArea\":2290},{\"SalePrice\":126000,\"GrLivArea\":1734},{\"SalePrice\":125000,\"GrLivArea\":1164},{\"SalePrice\":117000,\"GrLivArea\":1635},{\"SalePrice\":395192,\"GrLivArea\":1940},{\"SalePrice\":195000,\"GrLivArea\":2030},{\"SalePrice\":197000,\"GrLivArea\":1576},{\"SalePrice\":348000,\"GrLivArea\":2392},{\"SalePrice\":168000,\"GrLivArea\":1742},{\"SalePrice\":187000,\"GrLivArea\":1851},{\"SalePrice\":173900,\"GrLivArea\":1500},{\"SalePrice\":337500,\"GrLivArea\":1718},{\"SalePrice\":121600,\"GrLivArea\":1230},{\"SalePrice\":136500,\"GrLivArea\":1050},{\"SalePrice\":185000,\"GrLivArea\":1442},{\"SalePrice\":91000,\"GrLivArea\":1077},{\"SalePrice\":206000,\"GrLivArea\":1208},{\"SalePrice\":82000,\"GrLivArea\":944},{\"SalePrice\":86000,\"GrLivArea\":691},{\"SalePrice\":232000,\"GrLivArea\":1574},{\"SalePrice\":136905,\"GrLivArea\":1680},{\"SalePrice\":181000,\"GrLivArea\":1504},{\"SalePrice\":149900,\"GrLivArea\":985},{\"SalePrice\":163500,\"GrLivArea\":1657},{\"SalePrice\":88000,\"GrLivArea\":1092},{\"SalePrice\":240000,\"GrLivArea\":1710},{\"SalePrice\":102000,\"GrLivArea\":1522},{\"SalePrice\":135000,\"GrLivArea\":1271},{\"SalePrice\":100000,\"GrLivArea\":1664},{\"SalePrice\":165000,\"GrLivArea\":1502},{\"SalePrice\":85000,\"GrLivArea\":1022},{\"SalePrice\":119200,\"GrLivArea\":1082},{\"SalePrice\":227000,\"GrLivArea\":1665},{\"SalePrice\":203000,\"GrLivArea\":1504},{\"SalePrice\":187500,\"GrLivArea\":1360},{\"SalePrice\":160000,\"GrLivArea\":1472},{\"SalePrice\":213490,\"GrLivArea\":1506},{\"SalePrice\":176000,\"GrLivArea\":1132},{\"SalePrice\":194000,\"GrLivArea\":1220},{\"SalePrice\":87000,\"GrLivArea\":1248},{\"SalePrice\":191000,\"GrLivArea\":1504},{\"SalePrice\":287000,\"GrLivArea\":2898},{\"SalePrice\":112500,\"GrLivArea\":882},{\"SalePrice\":167500,\"GrLivArea\":1264},{\"SalePrice\":293077,\"GrLivArea\":1646},{\"SalePrice\":105000,\"GrLivArea\":1376},{\"SalePrice\":118000,\"GrLivArea\":1218},{\"SalePrice\":160000,\"GrLivArea\":1928},{\"SalePrice\":197000,\"GrLivArea\":3082},{\"SalePrice\":310000,\"GrLivArea\":2520},{\"SalePrice\":230000,\"GrLivArea\":1654},{\"SalePrice\":119750,\"GrLivArea\":954},{\"SalePrice\":84000,\"GrLivArea\":845},{\"SalePrice\":315500,\"GrLivArea\":1620},{\"SalePrice\":287000,\"GrLivArea\":2263},{\"SalePrice\":97000,\"GrLivArea\":1344},{\"SalePrice\":80000,\"GrLivArea\":630},{\"SalePrice\":155000,\"GrLivArea\":1803},{\"SalePrice\":173000,\"GrLivArea\":1632},{\"SalePrice\":196000,\"GrLivArea\":1306},{\"SalePrice\":262280,\"GrLivArea\":2329},{\"SalePrice\":278000,\"GrLivArea\":2524},{\"SalePrice\":139600,\"GrLivArea\":1733},{\"SalePrice\":556581,\"GrLivArea\":2868},{\"SalePrice\":145000,\"GrLivArea\":990},{\"SalePrice\":115000,\"GrLivArea\":1771},{\"SalePrice\":84900,\"GrLivArea\":930},{\"SalePrice\":176485,\"GrLivArea\":1302},{\"SalePrice\":200141,\"GrLivArea\":1316},{\"SalePrice\":165000,\"GrLivArea\":1977},{\"SalePrice\":144500,\"GrLivArea\":1526},{\"SalePrice\":255000,\"GrLivArea\":1989},{\"SalePrice\":180000,\"GrLivArea\":1523},{\"SalePrice\":185850,\"GrLivArea\":1364},{\"SalePrice\":248000,\"GrLivArea\":1850},{\"SalePrice\":335000,\"GrLivArea\":2184},{\"SalePrice\":220000,\"GrLivArea\":1991},{\"SalePrice\":213500,\"GrLivArea\":1338},{\"SalePrice\":81000,\"GrLivArea\":894},{\"SalePrice\":90000,\"GrLivArea\":2337},{\"SalePrice\":110500,\"GrLivArea\":1103},{\"SalePrice\":154000,\"GrLivArea\":1154},{\"SalePrice\":328000,\"GrLivArea\":2260},{\"SalePrice\":178000,\"GrLivArea\":1571},{\"SalePrice\":167900,\"GrLivArea\":1611},{\"SalePrice\":151400,\"GrLivArea\":2521},{\"SalePrice\":135000,\"GrLivArea\":893},{\"SalePrice\":135000,\"GrLivArea\":1048},{\"SalePrice\":154000,\"GrLivArea\":1556},{\"SalePrice\":91500,\"GrLivArea\":1456},{\"SalePrice\":159500,\"GrLivArea\":1426},{\"SalePrice\":194000,\"GrLivArea\":1240},{\"SalePrice\":219500,\"GrLivArea\":1740},{\"SalePrice\":170000,\"GrLivArea\":1466},{\"SalePrice\":138800,\"GrLivArea\":1096},{\"SalePrice\":155900,\"GrLivArea\":848},{\"SalePrice\":126000,\"GrLivArea\":990},{\"SalePrice\":145000,\"GrLivArea\":1258},{\"SalePrice\":133000,\"GrLivArea\":1040},{\"SalePrice\":192000,\"GrLivArea\":1459},{\"SalePrice\":160000,\"GrLivArea\":1251},{\"SalePrice\":187500,\"GrLivArea\":1498},{\"SalePrice\":147000,\"GrLivArea\":996},{\"SalePrice\":83500,\"GrLivArea\":1092},{\"SalePrice\":252000,\"GrLivArea\":1953},{\"SalePrice\":137500,\"GrLivArea\":1709},{\"SalePrice\":197000,\"GrLivArea\":1247},{\"SalePrice\":92900,\"GrLivArea\":1040},{\"SalePrice\":160000,\"GrLivArea\":1252},{\"SalePrice\":136500,\"GrLivArea\":1694},{\"SalePrice\":146000,\"GrLivArea\":1200},{\"SalePrice\":129000,\"GrLivArea\":936},{\"SalePrice\":176432,\"GrLivArea\":1314},{\"SalePrice\":127000,\"GrLivArea\":1355},{\"SalePrice\":170000,\"GrLivArea\":1088},{\"SalePrice\":128000,\"GrLivArea\":1324},{\"SalePrice\":157000,\"GrLivArea\":1601},{\"SalePrice\":60000,\"GrLivArea\":438},{\"SalePrice\":119500,\"GrLivArea\":950},{\"SalePrice\":135000,\"GrLivArea\":1134},{\"SalePrice\":159500,\"GrLivArea\":1194},{\"SalePrice\":106000,\"GrLivArea\":1302},{\"SalePrice\":325000,\"GrLivArea\":2622},{\"SalePrice\":179900,\"GrLivArea\":1442},{\"SalePrice\":274725,\"GrLivArea\":2021},{\"SalePrice\":181000,\"GrLivArea\":1690},{\"SalePrice\":280000,\"GrLivArea\":1836},{\"SalePrice\":188000,\"GrLivArea\":1658},{\"SalePrice\":205000,\"GrLivArea\":1964},{\"SalePrice\":129900,\"GrLivArea\":816},{\"SalePrice\":134500,\"GrLivArea\":1008},{\"SalePrice\":117000,\"GrLivArea\":833},{\"SalePrice\":318000,\"GrLivArea\":1734},{\"SalePrice\":184100,\"GrLivArea\":1419},{\"SalePrice\":130000,\"GrLivArea\":894},{\"SalePrice\":140000,\"GrLivArea\":1601},{\"SalePrice\":133700,\"GrLivArea\":1040},{\"SalePrice\":118400,\"GrLivArea\":1012},{\"SalePrice\":212900,\"GrLivArea\":1552},{\"SalePrice\":112000,\"GrLivArea\":960},{\"SalePrice\":118000,\"GrLivArea\":698},{\"SalePrice\":163900,\"GrLivArea\":1482},{\"SalePrice\":115000,\"GrLivArea\":1005},{\"SalePrice\":174000,\"GrLivArea\":1555},{\"SalePrice\":259000,\"GrLivArea\":1530},{\"SalePrice\":215000,\"GrLivArea\":1959},{\"SalePrice\":140000,\"GrLivArea\":936},{\"SalePrice\":135000,\"GrLivArea\":1981},{\"SalePrice\":93500,\"GrLivArea\":974},{\"SalePrice\":117500,\"GrLivArea\":2210},{\"SalePrice\":239500,\"GrLivArea\":2020},{\"SalePrice\":169000,\"GrLivArea\":1600},{\"SalePrice\":102000,\"GrLivArea\":986},{\"SalePrice\":119000,\"GrLivArea\":1252},{\"SalePrice\":94000,\"GrLivArea\":1020},{\"SalePrice\":196000,\"GrLivArea\":1567},{\"SalePrice\":144000,\"GrLivArea\":1167},{\"SalePrice\":139000,\"GrLivArea\":952},{\"SalePrice\":197500,\"GrLivArea\":1868},{\"SalePrice\":424870,\"GrLivArea\":2828},{\"SalePrice\":80000,\"GrLivArea\":1006},{\"SalePrice\":80000,\"GrLivArea\":924},{\"SalePrice\":149000,\"GrLivArea\":1576},{\"SalePrice\":180000,\"GrLivArea\":1298},{\"SalePrice\":174500,\"GrLivArea\":1564},{\"SalePrice\":116900,\"GrLivArea\":1111},{\"SalePrice\":143000,\"GrLivArea\":1482},{\"SalePrice\":124000,\"GrLivArea\":932},{\"SalePrice\":149900,\"GrLivArea\":1466},{\"SalePrice\":230000,\"GrLivArea\":1811},{\"SalePrice\":120500,\"GrLivArea\":816},{\"SalePrice\":201800,\"GrLivArea\":1820},{\"SalePrice\":218000,\"GrLivArea\":1437},{\"SalePrice\":179900,\"GrLivArea\":1265},{\"SalePrice\":230000,\"GrLivArea\":1314},{\"SalePrice\":235128,\"GrLivArea\":1580},{\"SalePrice\":185000,\"GrLivArea\":1876},{\"SalePrice\":146000,\"GrLivArea\":1456},{\"SalePrice\":224000,\"GrLivArea\":1640},{\"SalePrice\":129000,\"GrLivArea\":894},{\"SalePrice\":108959,\"GrLivArea\":1258},{\"SalePrice\":194000,\"GrLivArea\":1432},{\"SalePrice\":233170,\"GrLivArea\":1502},{\"SalePrice\":245350,\"GrLivArea\":1694},{\"SalePrice\":173000,\"GrLivArea\":1671},{\"SalePrice\":235000,\"GrLivArea\":2108},{\"SalePrice\":625000,\"GrLivArea\":3627},{\"SalePrice\":171000,\"GrLivArea\":1118},{\"SalePrice\":163000,\"GrLivArea\":1261},{\"SalePrice\":171900,\"GrLivArea\":1250},{\"SalePrice\":200500,\"GrLivArea\":3086},{\"SalePrice\":239000,\"GrLivArea\":2345},{\"SalePrice\":285000,\"GrLivArea\":2872},{\"SalePrice\":119500,\"GrLivArea\":923},{\"SalePrice\":115000,\"GrLivArea\":1224},{\"SalePrice\":154900,\"GrLivArea\":1343},{\"SalePrice\":93000,\"GrLivArea\":1124},{\"SalePrice\":250000,\"GrLivArea\":2514},{\"SalePrice\":392500,\"GrLivArea\":1652},{\"SalePrice\":745000,\"GrLivArea\":4476},{\"SalePrice\":120000,\"GrLivArea\":1130},{\"SalePrice\":186700,\"GrLivArea\":1572},{\"SalePrice\":104900,\"GrLivArea\":1221},{\"SalePrice\":95000,\"GrLivArea\":1699},{\"SalePrice\":262000,\"GrLivArea\":1624},{\"SalePrice\":195000,\"GrLivArea\":1660},{\"SalePrice\":189000,\"GrLivArea\":1804},{\"SalePrice\":168000,\"GrLivArea\":1622},{\"SalePrice\":174000,\"GrLivArea\":1441},{\"SalePrice\":125000,\"GrLivArea\":1472},{\"SalePrice\":165000,\"GrLivArea\":1224},{\"SalePrice\":158000,\"GrLivArea\":1352},{\"SalePrice\":176000,\"GrLivArea\":1456},{\"SalePrice\":219210,\"GrLivArea\":1863},{\"SalePrice\":144000,\"GrLivArea\":1690},{\"SalePrice\":178000,\"GrLivArea\":1212},{\"SalePrice\":148000,\"GrLivArea\":1382},{\"SalePrice\":116050,\"GrLivArea\":864},{\"SalePrice\":197900,\"GrLivArea\":1779},{\"SalePrice\":117000,\"GrLivArea\":1348},{\"SalePrice\":213000,\"GrLivArea\":1630},{\"SalePrice\":153500,\"GrLivArea\":1074},{\"SalePrice\":271900,\"GrLivArea\":2196},{\"SalePrice\":107000,\"GrLivArea\":1056},{\"SalePrice\":200000,\"GrLivArea\":1700},{\"SalePrice\":140000,\"GrLivArea\":1283},{\"SalePrice\":290000,\"GrLivArea\":1660},{\"SalePrice\":189000,\"GrLivArea\":1845},{\"SalePrice\":164000,\"GrLivArea\":1752},{\"SalePrice\":113000,\"GrLivArea\":672},{\"SalePrice\":145000,\"GrLivArea\":960},{\"SalePrice\":134500,\"GrLivArea\":999},{\"SalePrice\":125000,\"GrLivArea\":894},{\"SalePrice\":112000,\"GrLivArea\":1902},{\"SalePrice\":229456,\"GrLivArea\":1314},{\"SalePrice\":80500,\"GrLivArea\":912},{\"SalePrice\":91500,\"GrLivArea\":1218},{\"SalePrice\":115000,\"GrLivArea\":912},{\"SalePrice\":134000,\"GrLivArea\":1211},{\"SalePrice\":143000,\"GrLivArea\":1846},{\"SalePrice\":137900,\"GrLivArea\":2136},{\"SalePrice\":184000,\"GrLivArea\":1490},{\"SalePrice\":145000,\"GrLivArea\":1138},{\"SalePrice\":214000,\"GrLivArea\":1933},{\"SalePrice\":147000,\"GrLivArea\":912},{\"SalePrice\":367294,\"GrLivArea\":1702},{\"SalePrice\":127000,\"GrLivArea\":1507},{\"SalePrice\":190000,\"GrLivArea\":2620},{\"SalePrice\":132500,\"GrLivArea\":1190},{\"SalePrice\":101800,\"GrLivArea\":1224},{\"SalePrice\":142000,\"GrLivArea\":1188},{\"SalePrice\":130000,\"GrLivArea\":1964},{\"SalePrice\":138887,\"GrLivArea\":1784},{\"SalePrice\":175500,\"GrLivArea\":1626},{\"SalePrice\":195000,\"GrLivArea\":1948},{\"SalePrice\":142500,\"GrLivArea\":1141},{\"SalePrice\":265900,\"GrLivArea\":1484},{\"SalePrice\":224900,\"GrLivArea\":1768},{\"SalePrice\":248328,\"GrLivArea\":1689},{\"SalePrice\":170000,\"GrLivArea\":1173},{\"SalePrice\":465000,\"GrLivArea\":2076},{\"SalePrice\":230000,\"GrLivArea\":1517},{\"SalePrice\":178000,\"GrLivArea\":1868},{\"SalePrice\":186500,\"GrLivArea\":1553},{\"SalePrice\":169900,\"GrLivArea\":1034},{\"SalePrice\":129500,\"GrLivArea\":2058},{\"SalePrice\":119000,\"GrLivArea\":988},{\"SalePrice\":244000,\"GrLivArea\":2110},{\"SalePrice\":171750,\"GrLivArea\":1405},{\"SalePrice\":130000,\"GrLivArea\":874},{\"SalePrice\":294000,\"GrLivArea\":2167},{\"SalePrice\":165400,\"GrLivArea\":1656},{\"SalePrice\":127500,\"GrLivArea\":1367},{\"SalePrice\":301500,\"GrLivArea\":1987},{\"SalePrice\":99900,\"GrLivArea\":864},{\"SalePrice\":190000,\"GrLivArea\":1166},{\"SalePrice\":151000,\"GrLivArea\":1054},{\"SalePrice\":181000,\"GrLivArea\":1675},{\"SalePrice\":128900,\"GrLivArea\":1050},{\"SalePrice\":161500,\"GrLivArea\":1788},{\"SalePrice\":180500,\"GrLivArea\":1824},{\"SalePrice\":181000,\"GrLivArea\":1337},{\"SalePrice\":183900,\"GrLivArea\":1452},{\"SalePrice\":122000,\"GrLivArea\":1889},{\"SalePrice\":378500,\"GrLivArea\":2018},{\"SalePrice\":381000,\"GrLivArea\":3447},{\"SalePrice\":144000,\"GrLivArea\":1524},{\"SalePrice\":260000,\"GrLivArea\":1524},{\"SalePrice\":185750,\"GrLivArea\":1489},{\"SalePrice\":137000,\"GrLivArea\":935},{\"SalePrice\":177000,\"GrLivArea\":1357},{\"SalePrice\":139000,\"GrLivArea\":1250},{\"SalePrice\":137000,\"GrLivArea\":1920},{\"SalePrice\":162000,\"GrLivArea\":1395},{\"SalePrice\":197900,\"GrLivArea\":1724},{\"SalePrice\":237000,\"GrLivArea\":2031},{\"SalePrice\":68400,\"GrLivArea\":1128},{\"SalePrice\":227000,\"GrLivArea\":1573},{\"SalePrice\":180000,\"GrLivArea\":1339},{\"SalePrice\":150500,\"GrLivArea\":1040},{\"SalePrice\":139000,\"GrLivArea\":1824},{\"SalePrice\":169000,\"GrLivArea\":2447},{\"SalePrice\":132500,\"GrLivArea\":1412},{\"SalePrice\":143000,\"GrLivArea\":1328},{\"SalePrice\":190000,\"GrLivArea\":1582},{\"SalePrice\":278000,\"GrLivArea\":1659},{\"SalePrice\":281000,\"GrLivArea\":1970},{\"SalePrice\":180500,\"GrLivArea\":1152},{\"SalePrice\":119500,\"GrLivArea\":1302},{\"SalePrice\":107500,\"GrLivArea\":2372},{\"SalePrice\":162900,\"GrLivArea\":1664},{\"SalePrice\":115000,\"GrLivArea\":864},{\"SalePrice\":138500,\"GrLivArea\":1052},{\"SalePrice\":155000,\"GrLivArea\":1128},{\"SalePrice\":140000,\"GrLivArea\":1072},{\"SalePrice\":160000,\"GrLivArea\":5642},{\"SalePrice\":154000,\"GrLivArea\":1246},{\"SalePrice\":225000,\"GrLivArea\":1983},{\"SalePrice\":177500,\"GrLivArea\":1494},{\"SalePrice\":290000,\"GrLivArea\":2526},{\"SalePrice\":232000,\"GrLivArea\":1616},{\"SalePrice\":130000,\"GrLivArea\":1708},{\"SalePrice\":325000,\"GrLivArea\":1652},{\"SalePrice\":202500,\"GrLivArea\":1368},{\"SalePrice\":138000,\"GrLivArea\":990},{\"SalePrice\":147000,\"GrLivArea\":1122},{\"SalePrice\":179200,\"GrLivArea\":1294},{\"SalePrice\":335000,\"GrLivArea\":1902},{\"SalePrice\":203000,\"GrLivArea\":1274},{\"SalePrice\":302000,\"GrLivArea\":2810},{\"SalePrice\":333168,\"GrLivArea\":2599},{\"SalePrice\":119000,\"GrLivArea\":948},{\"SalePrice\":206900,\"GrLivArea\":2112},{\"SalePrice\":295493,\"GrLivArea\":1630},{\"SalePrice\":208900,\"GrLivArea\":1352},{\"SalePrice\":275000,\"GrLivArea\":1787},{\"SalePrice\":111000,\"GrLivArea\":948},{\"SalePrice\":156500,\"GrLivArea\":1478},{\"SalePrice\":72500,\"GrLivArea\":720},{\"SalePrice\":190000,\"GrLivArea\":1923},{\"SalePrice\":82500,\"GrLivArea\":708},{\"SalePrice\":147000,\"GrLivArea\":1795},{\"SalePrice\":55000,\"GrLivArea\":796},{\"SalePrice\":79000,\"GrLivArea\":774},{\"SalePrice\":130500,\"GrLivArea\":816},{\"SalePrice\":256000,\"GrLivArea\":2792},{\"SalePrice\":176500,\"GrLivArea\":1632},{\"SalePrice\":227000,\"GrLivArea\":1588},{\"SalePrice\":132500,\"GrLivArea\":954},{\"SalePrice\":100000,\"GrLivArea\":816},{\"SalePrice\":125500,\"GrLivArea\":1360},{\"SalePrice\":125000,\"GrLivArea\":1365},{\"SalePrice\":167900,\"GrLivArea\":1334},{\"SalePrice\":135000,\"GrLivArea\":1656},{\"SalePrice\":52500,\"GrLivArea\":693},{\"SalePrice\":200000,\"GrLivArea\":1861},{\"SalePrice\":128500,\"GrLivArea\":864},{\"SalePrice\":123000,\"GrLivArea\":872},{\"SalePrice\":155000,\"GrLivArea\":1114},{\"SalePrice\":228500,\"GrLivArea\":2169},{\"SalePrice\":177000,\"GrLivArea\":1913},{\"SalePrice\":155835,\"GrLivArea\":1456},{\"SalePrice\":108500,\"GrLivArea\":960},{\"SalePrice\":262500,\"GrLivArea\":2156},{\"SalePrice\":283463,\"GrLivArea\":1776},{\"SalePrice\":215000,\"GrLivArea\":1494},{\"SalePrice\":122000,\"GrLivArea\":2358},{\"SalePrice\":200000,\"GrLivArea\":2634},{\"SalePrice\":171000,\"GrLivArea\":1716},{\"SalePrice\":134900,\"GrLivArea\":1176},{\"SalePrice\":410000,\"GrLivArea\":3238},{\"SalePrice\":235000,\"GrLivArea\":1865},{\"SalePrice\":170000,\"GrLivArea\":1920},{\"SalePrice\":110000,\"GrLivArea\":892},{\"SalePrice\":149900,\"GrLivArea\":1078},{\"SalePrice\":177500,\"GrLivArea\":1573},{\"SalePrice\":315000,\"GrLivArea\":1980},{\"SalePrice\":189000,\"GrLivArea\":2601},{\"SalePrice\":260000,\"GrLivArea\":1530},{\"SalePrice\":104900,\"GrLivArea\":1738},{\"SalePrice\":156932,\"GrLivArea\":1412},{\"SalePrice\":144152,\"GrLivArea\":1200},{\"SalePrice\":216000,\"GrLivArea\":1674},{\"SalePrice\":193000,\"GrLivArea\":1790},{\"SalePrice\":127000,\"GrLivArea\":1475},{\"SalePrice\":144000,\"GrLivArea\":848},{\"SalePrice\":232000,\"GrLivArea\":1668},{\"SalePrice\":105000,\"GrLivArea\":1374},{\"SalePrice\":165500,\"GrLivArea\":1661},{\"SalePrice\":274300,\"GrLivArea\":2097},{\"SalePrice\":466500,\"GrLivArea\":2633},{\"SalePrice\":250000,\"GrLivArea\":1958},{\"SalePrice\":239000,\"GrLivArea\":1571},{\"SalePrice\":91000,\"GrLivArea\":790},{\"SalePrice\":117000,\"GrLivArea\":1604},{\"SalePrice\":83000,\"GrLivArea\":987},{\"SalePrice\":167500,\"GrLivArea\":1394},{\"SalePrice\":58500,\"GrLivArea\":864},{\"SalePrice\":237500,\"GrLivArea\":2117},{\"SalePrice\":157000,\"GrLivArea\":1762},{\"SalePrice\":112000,\"GrLivArea\":1416},{\"SalePrice\":105000,\"GrLivArea\":1258},{\"SalePrice\":125500,\"GrLivArea\":1154},{\"SalePrice\":250000,\"GrLivArea\":2784},{\"SalePrice\":136000,\"GrLivArea\":2526},{\"SalePrice\":377500,\"GrLivArea\":1746},{\"SalePrice\":131000,\"GrLivArea\":1218},{\"SalePrice\":235000,\"GrLivArea\":1525},{\"SalePrice\":124000,\"GrLivArea\":1584},{\"SalePrice\":123000,\"GrLivArea\":900},{\"SalePrice\":163000,\"GrLivArea\":1912},{\"SalePrice\":246578,\"GrLivArea\":1500},{\"SalePrice\":281213,\"GrLivArea\":2482},{\"SalePrice\":160000,\"GrLivArea\":1687},{\"SalePrice\":137500,\"GrLivArea\":1513},{\"SalePrice\":138000,\"GrLivArea\":1904},{\"SalePrice\":137450,\"GrLivArea\":1608},{\"SalePrice\":120000,\"GrLivArea\":1158},{\"SalePrice\":193000,\"GrLivArea\":1593},{\"SalePrice\":193879,\"GrLivArea\":1294},{\"SalePrice\":282922,\"GrLivArea\":1464},{\"SalePrice\":105000,\"GrLivArea\":1214},{\"SalePrice\":275000,\"GrLivArea\":1646},{\"SalePrice\":133000,\"GrLivArea\":768},{\"SalePrice\":112000,\"GrLivArea\":833},{\"SalePrice\":125500,\"GrLivArea\":1363},{\"SalePrice\":215000,\"GrLivArea\":2093},{\"SalePrice\":230000,\"GrLivArea\":1840},{\"SalePrice\":140000,\"GrLivArea\":1668},{\"SalePrice\":90000,\"GrLivArea\":1040},{\"SalePrice\":257000,\"GrLivArea\":1844},{\"SalePrice\":207000,\"GrLivArea\":1848},{\"SalePrice\":175900,\"GrLivArea\":1569},{\"SalePrice\":122500,\"GrLivArea\":2290},{\"SalePrice\":340000,\"GrLivArea\":2450},{\"SalePrice\":124000,\"GrLivArea\":1144},{\"SalePrice\":223000,\"GrLivArea\":1844},{\"SalePrice\":179900,\"GrLivArea\":1416},{\"SalePrice\":127500,\"GrLivArea\":1069},{\"SalePrice\":136500,\"GrLivArea\":848},{\"SalePrice\":274970,\"GrLivArea\":2201},{\"SalePrice\":144000,\"GrLivArea\":1344},{\"SalePrice\":142000,\"GrLivArea\":1252},{\"SalePrice\":271000,\"GrLivArea\":2127},{\"SalePrice\":140000,\"GrLivArea\":1558},{\"SalePrice\":119000,\"GrLivArea\":804},{\"SalePrice\":182900,\"GrLivArea\":1440},{\"SalePrice\":192140,\"GrLivArea\":1838},{\"SalePrice\":143750,\"GrLivArea\":958},{\"SalePrice\":64500,\"GrLivArea\":968},{\"SalePrice\":186500,\"GrLivArea\":1792},{\"SalePrice\":160000,\"GrLivArea\":1126},{\"SalePrice\":174000,\"GrLivArea\":1537},{\"SalePrice\":120500,\"GrLivArea\":864},{\"SalePrice\":394617,\"GrLivArea\":1932},{\"SalePrice\":149700,\"GrLivArea\":1236},{\"SalePrice\":197000,\"GrLivArea\":1725},{\"SalePrice\":191000,\"GrLivArea\":2555},{\"SalePrice\":149300,\"GrLivArea\":848},{\"SalePrice\":310000,\"GrLivArea\":2007},{\"SalePrice\":121000,\"GrLivArea\":952},{\"SalePrice\":179600,\"GrLivArea\":1422},{\"SalePrice\":129000,\"GrLivArea\":913},{\"SalePrice\":157900,\"GrLivArea\":1188},{\"SalePrice\":240000,\"GrLivArea\":2090},{\"SalePrice\":112000,\"GrLivArea\":1346},{\"SalePrice\":92000,\"GrLivArea\":630},{\"SalePrice\":136000,\"GrLivArea\":1792},{\"SalePrice\":287090,\"GrLivArea\":1578},{\"SalePrice\":145000,\"GrLivArea\":1072},{\"SalePrice\":84500,\"GrLivArea\":1140},{\"SalePrice\":185000,\"GrLivArea\":1221},{\"SalePrice\":175000,\"GrLivArea\":1647},{\"SalePrice\":210000,\"GrLivArea\":2073},{\"SalePrice\":266500,\"GrLivArea\":2340},{\"SalePrice\":142125,\"GrLivArea\":1078},{\"SalePrice\":147500,\"GrLivArea\":1256}]},\"mark\":\"point\",\"encoding\":{\"y\":{\"field\":\"SalePrice\",\"type\":\"quantitative\"},\"x\":{\"field\":\"GrLivArea\",\"type\":\"quantitative\"}}};\n",
       "    vegaEmbed('#uuid-a06db140-c1c2-4ede-9024-4ecfaf7aa1f0', spec, {defaultStyle:true}).catch(console.warn);\n",
       "    }, function(err) {\n",
       "    console.log('Failed to load');\n",
       "  });\n",
       "  </script>\n",
       "</div>\n",
       "  "
      ]
     },
     "execution_count": 10,
     "metadata": {},
     "output_type": "execute_result"
    }
   ],
   "source": [
    "(-> [:vega-lite {:data {:values\n",
    "                                (-> src-dataset\n",
    "                                (ds/select [\"SalePrice\" \"GrLivArea\"] :all)\n",
    "                                (ds/->flyweight))}\n",
    "                     :mark :point\n",
    "                     :encoding {:y {:field \"SalePrice\"\n",
    "                                    :type :quantitative}\n",
    "                                :x {:field \"GrLivArea\"\n",
    "                                    :type :quantitative}}}]\n",
    "    oz/view!)"
   ]
  },
  {
   "cell_type": "code",
   "execution_count": 33,
   "metadata": {},
   "outputs": [
    {
     "data": {
      "text/html": [
       "\n",
       "<div>\n",
       "  <div id='uuid-96a99d22-6fc7-4f10-9087-727cf3b35357'></div>\n",
       "  <script>\n",
       "  requirejs.config({\n",
       "    baseUrl: 'https://cdn.jsdelivr.net/npm/',\n",
       "    paths: {\n",
       "      'vega-embed':  'vega-embed@3?noext',\n",
       "      'vega-lib': 'vega-lib?noext',\n",
       "      'vega-lite': 'vega-lite@2?noext',\n",
       "      'vega': 'vega@3?noext'\n",
       "    }\n",
       "  });\n",
       "  require(['vega-embed'], function(vegaEmbed) {\n",
       "    let spec = {\"data\":{\"values\":[{\"time\":0,\"item\":\"munchkin\",\"quantity\":2.0},{\"time\":1,\"item\":\"munchkin\",\"quantity\":9.278031643091577},{\"time\":2,\"item\":\"munchkin\",\"quantity\":14.18958683997628},{\"time\":3,\"item\":\"munchkin\",\"quantity\":19.71068609258575},{\"time\":4,\"item\":\"munchkin\",\"quantity\":21.000000000000004},{\"time\":5,\"item\":\"munchkin\",\"quantity\":26.127049995800743},{\"time\":6,\"item\":\"munchkin\",\"quantity\":29.13058987556147},{\"time\":7,\"item\":\"munchkin\",\"quantity\":25.03516289842348},{\"time\":8,\"item\":\"munchkin\",\"quantity\":29.85761802547598},{\"time\":9,\"item\":\"munchkin\",\"quantity\":33.610188015018984},{\"time\":10,\"item\":\"munchkin\",\"quantity\":38.30212829607493},{\"time\":11,\"item\":\"munchkin\",\"quantity\":35.940667420160906},{\"time\":12,\"item\":\"munchkin\",\"quantity\":41.53159496449108},{\"time\":13,\"item\":\"munchkin\",\"quantity\":45.07964401264505},{\"time\":14,\"item\":\"munchkin\",\"quantity\":46.58875032686557},{\"time\":15,\"item\":\"munchkin\",\"quantity\":46.06223395648531},{\"time\":16,\"item\":\"munchkin\",\"quantity\":54.50293012833275},{\"time\":17,\"item\":\"munchkin\",\"quantity\":53.91328587177879},{\"time\":18,\"item\":\"munchkin\",\"quantity\":57.29543283815009},{\"time\":19,\"item\":\"munchkin\",\"quantity\":56.65124317675735},{\"time\":0,\"item\":\"witch\",\"quantity\":1.0},{\"time\":1,\"item\":\"witch\",\"quantity\":7.623898318388478},{\"time\":2,\"item\":\"witch\",\"quantity\":6.309573444801933},{\"time\":3,\"item\":\"witch\",\"quantity\":12.727161387290321},{\"time\":4,\"item\":\"witch\",\"quantity\":13.98560543306118},{\"time\":5,\"item\":\"witch\",\"quantity\":13.132639022018838},{\"time\":6,\"item\":\"witch\",\"quantity\":18.194870523363548},{\"time\":7,\"item\":\"witch\",\"quantity\":19.189151347155786},{\"time\":8,\"item\":\"witch\",\"quantity\":22.127049995800743},{\"time\":9,\"item\":\"witch\",\"quantity\":24.016965485301043},{\"time\":10,\"item\":\"witch\",\"quantity\":23.86525259636632},{\"time\":11,\"item\":\"witch\",\"quantity\":28.676874454922782},{\"time\":12,\"item\":\"witch\",\"quantity\":29.45580618665162},{\"time\":13,\"item\":\"witch\",\"quantity\":32.20529752834578},{\"time\":14,\"item\":\"witch\",\"quantity\":32.9280507756976},{\"time\":15,\"item\":\"witch\",\"quantity\":31.626345475706252},{\"time\":16,\"item\":\"witch\",\"quantity\":37.30212829607493},{\"time\":17,\"item\":\"witch\",\"quantity\":34.95707936800063},{\"time\":18,\"item\":\"witch\",\"quantity\":39.59266228400805},{\"time\":19,\"item\":\"witch\",\"quantity\":42.210162462449645},{\"time\":0,\"item\":\"dog\",\"quantity\":2.0},{\"time\":1,\"item\":\"dog\",\"quantity\":3.4082246852806923},{\"time\":2,\"item\":\"dog\",\"quantity\":6.192962712629476},{\"time\":3,\"item\":\"dog\",\"quantity\":6.799546134795289},{\"time\":4,\"item\":\"dog\",\"quantity\":8.30037210271847},{\"time\":5,\"item\":\"dog\",\"quantity\":10.727161387290321},{\"time\":6,\"item\":\"dog\",\"quantity\":10.097596309015797},{\"time\":7,\"item\":\"dog\",\"quantity\":11.42287530066645},{\"time\":8,\"item\":\"dog\",\"quantity\":14.71068609258575},{\"time\":9,\"item\":\"dog\",\"quantity\":13.966610165238238},{\"time\":10,\"item\":\"dog\",\"quantity\":17.194870523363548},{\"time\":11,\"item\":\"dog\",\"quantity\":17.398765361701578},{\"time\":12,\"item\":\"dog\",\"quantity\":17.580936309501134},{\"time\":13,\"item\":\"dog\",\"quantity\":19.74354294621998},{\"time\":14,\"item\":\"dog\",\"quantity\":19.888381054913122},{\"time\":15,\"item\":\"dog\",\"quantity\":21.016965485301043},{\"time\":16,\"item\":\"dog\",\"quantity\":22.13058987556147},{\"time\":17,\"item\":\"dog\",\"quantity\":24.230370739754015},{\"time\":18,\"item\":\"dog\",\"quantity\":25.317280693371046},{\"time\":19,\"item\":\"dog\",\"quantity\":25.392173948075055},{\"time\":0,\"item\":\"lion\",\"quantity\":3.0},{\"time\":1,\"item\":\"lion\",\"quantity\":3.0314331330207964},{\"time\":2,\"item\":\"lion\",\"quantity\":6.278031643091578},{\"time\":3,\"item\":\"lion\",\"quantity\":9.30037210271847},{\"time\":4,\"item\":\"lion\",\"quantity\":9.18958683997628},{\"time\":5,\"item\":\"lion\",\"quantity\":13.98560543306118},{\"time\":6,\"item\":\"lion\",\"quantity\":15.71068609258575},{\"time\":7,\"item\":\"lion\",\"quantity\":17.378925219250924},{\"time\":8,\"item\":\"lion\",\"quantity\":16.000000000000004},{\"time\":9,\"item\":\"lion\",\"quantity\":19.580936309501134},{\"time\":10,\"item\":\"lion\",\"quantity\":19.127049995800743},{\"time\":11,\"item\":\"lion\",\"quantity\":22.642492771517183},{\"time\":12,\"item\":\"lion\",\"quantity\":23.13058987556147},{\"time\":13,\"item\":\"lion\",\"quantity\":25.59405975059458},{\"time\":14,\"item\":\"lion\",\"quantity\":28.03516289842348},{\"time\":15,\"item\":\"lion\",\"quantity\":28.45580618665162},{\"time\":16,\"item\":\"lion\",\"quantity\":30.85761802547598},{\"time\":17,\"item\":\"lion\",\"quantity\":32.24200386420304},{\"time\":18,\"item\":\"lion\",\"quantity\":30.610188015018984},{\"time\":19,\"item\":\"lion\",\"quantity\":32.96324574534057},{\"time\":0,\"item\":\"tiger\",\"quantity\":1.0},{\"time\":1,\"item\":\"tiger\",\"quantity\":4.623898318388478},{\"time\":2,\"item\":\"tiger\",\"quantity\":8.309573444801934},{\"time\":3,\"item\":\"tiger\",\"quantity\":12.727161387290321},{\"time\":4,\"item\":\"tiger\",\"quantity\":13.98560543306118},{\"time\":5,\"item\":\"tiger\",\"quantity\":14.132639022018838},{\"time\":6,\"item\":\"tiger\",\"quantity\":19.194870523363548},{\"time\":7,\"item\":\"tiger\",\"quantity\":20.189151347155786},{\"time\":8,\"item\":\"tiger\",\"quantity\":19.127049995800743},{\"time\":9,\"item\":\"tiger\",\"quantity\":22.016965485301043},{\"time\":10,\"item\":\"tiger\",\"quantity\":23.86525259636632},{\"time\":11,\"item\":\"tiger\",\"quantity\":28.676874454922782},{\"time\":12,\"item\":\"tiger\",\"quantity\":30.45580618665162},{\"time\":13,\"item\":\"tiger\",\"quantity\":29.205297528345778},{\"time\":14,\"item\":\"tiger\",\"quantity\":31.928050775697603},{\"time\":15,\"item\":\"tiger\",\"quantity\":34.62634547570625},{\"time\":16,\"item\":\"tiger\",\"quantity\":36.30212829607493},{\"time\":17,\"item\":\"tiger\",\"quantity\":35.95707936800063},{\"time\":18,\"item\":\"tiger\",\"quantity\":40.59266228400805},{\"time\":19,\"item\":\"tiger\",\"quantity\":42.210162462449645},{\"time\":0,\"item\":\"bear\",\"quantity\":0.0},{\"time\":1,\"item\":\"bear\",\"quantity\":6.031433133020796},{\"time\":2,\"item\":\"bear\",\"quantity\":6.278031643091578},{\"time\":3,\"item\":\"bear\",\"quantity\":10.30037210271847},{\"time\":4,\"item\":\"bear\",\"quantity\":11.18958683997628},{\"time\":5,\"item\":\"bear\",\"quantity\":11.98560543306118},{\"time\":6,\"item\":\"bear\",\"quantity\":14.71068609258575},{\"time\":7,\"item\":\"bear\",\"quantity\":17.378925219250924},{\"time\":8,\"item\":\"bear\",\"quantity\":16.000000000000004},{\"time\":9,\"item\":\"bear\",\"quantity\":18.580936309501134},{\"time\":10,\"item\":\"bear\",\"quantity\":22.127049995800743},{\"time\":11,\"item\":\"bear\",\"quantity\":22.642492771517183},{\"time\":12,\"item\":\"bear\",\"quantity\":22.13058987556147},{\"time\":13,\"item\":\"bear\",\"quantity\":25.59405975059458},{\"time\":14,\"item\":\"bear\",\"quantity\":25.03516289842348},{\"time\":15,\"item\":\"bear\",\"quantity\":27.45580618665162},{\"time\":16,\"item\":\"bear\",\"quantity\":27.85761802547598},{\"time\":17,\"item\":\"bear\",\"quantity\":32.24200386420304},{\"time\":18,\"item\":\"bear\",\"quantity\":31.610188015018984},{\"time\":19,\"item\":\"bear\",\"quantity\":31.96324574534057}]},\"mark\":\"bar\",\"encoding\":{\"x\":{\"field\":\"time\"},\"y\":{\"aggregate\":\"sum\",\"field\":\"quantity\",\"type\":\"quantitative\"},\"color\":{\"field\":\"item\"}}};\n",
       "    vegaEmbed('#uuid-96a99d22-6fc7-4f10-9087-727cf3b35357', spec, {defaultStyle:true}).catch(console.warn);\n",
       "    }, function(err) {\n",
       "    console.log('Failed to load');\n",
       "  });\n",
       "  </script>\n",
       "</div>\n",
       "  "
      ]
     },
     "execution_count": 33,
     "metadata": {},
     "output_type": "execute_result"
    }
   ],
   "source": [
    "(defn play-data [& names]\n",
    "  (for [n names\n",
    "        i (range 20)]\n",
    "    {:time i :item n :quantity (+ (Math/pow (* i (count n)) 0.8) (rand-int (count n)))}))\n",
    "    \n",
    "(def stacked-bar\n",
    "  {:data {:values (play-data \"munchkin\" \"witch\" \"dog\" \"lion\" \"tiger\" \"bear\")}\n",
    "   :mark \"bar\"\n",
    "   :encoding {:x {:field \"time\"}\n",
    "              :y {:aggregate \"sum\"\n",
    "                  :field \"quantity\"\n",
    "                  :type \"quantitative\"}\n",
    "              :color {:field \"item\"}}})\n",
    "(oz/view! stacked-bar)"
   ]
  },
  {
   "cell_type": "code",
   "execution_count": 34,
   "metadata": {},
   "outputs": [
    {
     "data": {
      "text/html": [
       "\n",
       "<div>\n",
       "  <div id='uuid-20045024-43c9-401b-8a7e-65a3f180f25f'></div>\n",
       "  <script>\n",
       "  requirejs.config({\n",
       "    baseUrl: 'https://cdn.jsdelivr.net/npm/',\n",
       "    paths: {\n",
       "      'vega-embed':  'vega-embed@3?noext',\n",
       "      'vega-lib': 'vega-lib?noext',\n",
       "      'vega-lite': 'vega-lite@2?noext',\n",
       "      'vega': 'vega@3?noext'\n",
       "    }\n",
       "  });\n",
       "  require(['vega-embed'], function(vegaEmbed) {\n",
       "    let spec = {\"data\":{\"url\":\"https:\\/\\/gist.githubusercontent.com\\/metasoarous\\/4e6f781d353322a44b9cd3e4597c532c\\/raw\\/cd633d9bb8e0bed4a5b8e66a32b9569ca2147989\\/cars.json\"},\"mark\":\"point\",\"encoding\":{\"x\":{\"field\":\"Horsepower\",\"type\":\"quantitative\"},\"y\":{\"field\":\"Miles_per_Gallon\",\"type\":\"quantitative\"},\"color\":{\"field\":\"Origin\",\"type\":\"nominal\"}}};\n",
       "    vegaEmbed('#uuid-20045024-43c9-401b-8a7e-65a3f180f25f', spec, {defaultStyle:true}).catch(console.warn);\n",
       "    }, function(err) {\n",
       "    console.log('Failed to load');\n",
       "  });\n",
       "  </script>\n",
       "</div>\n",
       "  "
      ]
     },
     "execution_count": 34,
     "metadata": {},
     "output_type": "execute_result"
    }
   ],
   "source": [
    "\n",
    "              \n",
    ";; Create spec, then visualize\n",
    "(def spec\n",
    "  {:data {:url \"https://gist.githubusercontent.com/metasoarous/4e6f781d353322a44b9cd3e4597c532c/raw/cd633d9bb8e0bed4a5b8e66a32b9569ca2147989/cars.json\"}\n",
    "   :mark \"point\"\n",
    "   :encoding {\n",
    "     :x {:field \"Horsepower\", :type \"quantitative\"}\n",
    "     :y {:field \"Miles_per_Gallon\", :type \"quantitative\"}\n",
    "     :color {:field \"Origin\", :type \"nominal\"}}})\n",
    "(oz/view! spec)"
   ]
  },
  {
   "cell_type": "code",
   "execution_count": 35,
   "metadata": {},
   "outputs": [
    {
     "data": {
      "text/html": [
       "<div><h1>A little hiccup example</h1><p>Try drinking a glass of water with your head upside down</p><div style=\"{:display &quot;flex&quot;, :flex-direction &quot;row&quot;}\">\n",
       "<div>\n",
       "  <div id='uuid-fd9f04fc-9e6a-406c-9918-ca9a31c85809'></div>\n",
       "  <script>\n",
       "  requirejs.config({\n",
       "    baseUrl: 'https://cdn.jsdelivr.net/npm/',\n",
       "    paths: {\n",
       "      'vega-embed':  'vega-embed@3?noext',\n",
       "      'vega-lib': 'vega-lib?noext',\n",
       "      'vega-lite': 'vega-lite@2?noext',\n",
       "      'vega': 'vega@3?noext'\n",
       "    }\n",
       "  });\n",
       "  require(['vega-embed'], function(vegaEmbed) {\n",
       "    let spec = {\"data\":{\"url\":\"https:\\/\\/gist.githubusercontent.com\\/metasoarous\\/4e6f781d353322a44b9cd3e4597c532c\\/raw\\/cd633d9bb8e0bed4a5b8e66a32b9569ca2147989\\/cars.json\"},\"mark\":\"point\",\"encoding\":{\"x\":{\"field\":\"Horsepower\",\"type\":\"quantitative\"},\"y\":{\"field\":\"Miles_per_Gallon\",\"type\":\"quantitative\"},\"color\":{\"field\":\"Origin\",\"type\":\"nominal\"}}};\n",
       "    vegaEmbed('#uuid-fd9f04fc-9e6a-406c-9918-ca9a31c85809', spec, {defaultStyle:true}).catch(console.warn);\n",
       "    }, function(err) {\n",
       "    console.log('Failed to load');\n",
       "  });\n",
       "  </script>\n",
       "</div>\n",
       "  \n",
       "<div>\n",
       "  <div id='uuid-a75f5521-a5a8-41b9-8c02-1de47e9276c0'></div>\n",
       "  <script>\n",
       "  requirejs.config({\n",
       "    baseUrl: 'https://cdn.jsdelivr.net/npm/',\n",
       "    paths: {\n",
       "      'vega-embed':  'vega-embed@3?noext',\n",
       "      'vega-lib': 'vega-lib?noext',\n",
       "      'vega-lite': 'vega-lite@2?noext',\n",
       "      'vega': 'vega@3?noext'\n",
       "    }\n",
       "  });\n",
       "  require(['vega-embed'], function(vegaEmbed) {\n",
       "    let spec = {\"data\":{\"values\":[{\"time\":0,\"item\":\"munchkin\",\"quantity\":2.0},{\"time\":1,\"item\":\"munchkin\",\"quantity\":9.278031643091577},{\"time\":2,\"item\":\"munchkin\",\"quantity\":14.18958683997628},{\"time\":3,\"item\":\"munchkin\",\"quantity\":19.71068609258575},{\"time\":4,\"item\":\"munchkin\",\"quantity\":21.000000000000004},{\"time\":5,\"item\":\"munchkin\",\"quantity\":26.127049995800743},{\"time\":6,\"item\":\"munchkin\",\"quantity\":29.13058987556147},{\"time\":7,\"item\":\"munchkin\",\"quantity\":25.03516289842348},{\"time\":8,\"item\":\"munchkin\",\"quantity\":29.85761802547598},{\"time\":9,\"item\":\"munchkin\",\"quantity\":33.610188015018984},{\"time\":10,\"item\":\"munchkin\",\"quantity\":38.30212829607493},{\"time\":11,\"item\":\"munchkin\",\"quantity\":35.940667420160906},{\"time\":12,\"item\":\"munchkin\",\"quantity\":41.53159496449108},{\"time\":13,\"item\":\"munchkin\",\"quantity\":45.07964401264505},{\"time\":14,\"item\":\"munchkin\",\"quantity\":46.58875032686557},{\"time\":15,\"item\":\"munchkin\",\"quantity\":46.06223395648531},{\"time\":16,\"item\":\"munchkin\",\"quantity\":54.50293012833275},{\"time\":17,\"item\":\"munchkin\",\"quantity\":53.91328587177879},{\"time\":18,\"item\":\"munchkin\",\"quantity\":57.29543283815009},{\"time\":19,\"item\":\"munchkin\",\"quantity\":56.65124317675735},{\"time\":0,\"item\":\"witch\",\"quantity\":1.0},{\"time\":1,\"item\":\"witch\",\"quantity\":7.623898318388478},{\"time\":2,\"item\":\"witch\",\"quantity\":6.309573444801933},{\"time\":3,\"item\":\"witch\",\"quantity\":12.727161387290321},{\"time\":4,\"item\":\"witch\",\"quantity\":13.98560543306118},{\"time\":5,\"item\":\"witch\",\"quantity\":13.132639022018838},{\"time\":6,\"item\":\"witch\",\"quantity\":18.194870523363548},{\"time\":7,\"item\":\"witch\",\"quantity\":19.189151347155786},{\"time\":8,\"item\":\"witch\",\"quantity\":22.127049995800743},{\"time\":9,\"item\":\"witch\",\"quantity\":24.016965485301043},{\"time\":10,\"item\":\"witch\",\"quantity\":23.86525259636632},{\"time\":11,\"item\":\"witch\",\"quantity\":28.676874454922782},{\"time\":12,\"item\":\"witch\",\"quantity\":29.45580618665162},{\"time\":13,\"item\":\"witch\",\"quantity\":32.20529752834578},{\"time\":14,\"item\":\"witch\",\"quantity\":32.9280507756976},{\"time\":15,\"item\":\"witch\",\"quantity\":31.626345475706252},{\"time\":16,\"item\":\"witch\",\"quantity\":37.30212829607493},{\"time\":17,\"item\":\"witch\",\"quantity\":34.95707936800063},{\"time\":18,\"item\":\"witch\",\"quantity\":39.59266228400805},{\"time\":19,\"item\":\"witch\",\"quantity\":42.210162462449645},{\"time\":0,\"item\":\"dog\",\"quantity\":2.0},{\"time\":1,\"item\":\"dog\",\"quantity\":3.4082246852806923},{\"time\":2,\"item\":\"dog\",\"quantity\":6.192962712629476},{\"time\":3,\"item\":\"dog\",\"quantity\":6.799546134795289},{\"time\":4,\"item\":\"dog\",\"quantity\":8.30037210271847},{\"time\":5,\"item\":\"dog\",\"quantity\":10.727161387290321},{\"time\":6,\"item\":\"dog\",\"quantity\":10.097596309015797},{\"time\":7,\"item\":\"dog\",\"quantity\":11.42287530066645},{\"time\":8,\"item\":\"dog\",\"quantity\":14.71068609258575},{\"time\":9,\"item\":\"dog\",\"quantity\":13.966610165238238},{\"time\":10,\"item\":\"dog\",\"quantity\":17.194870523363548},{\"time\":11,\"item\":\"dog\",\"quantity\":17.398765361701578},{\"time\":12,\"item\":\"dog\",\"quantity\":17.580936309501134},{\"time\":13,\"item\":\"dog\",\"quantity\":19.74354294621998},{\"time\":14,\"item\":\"dog\",\"quantity\":19.888381054913122},{\"time\":15,\"item\":\"dog\",\"quantity\":21.016965485301043},{\"time\":16,\"item\":\"dog\",\"quantity\":22.13058987556147},{\"time\":17,\"item\":\"dog\",\"quantity\":24.230370739754015},{\"time\":18,\"item\":\"dog\",\"quantity\":25.317280693371046},{\"time\":19,\"item\":\"dog\",\"quantity\":25.392173948075055},{\"time\":0,\"item\":\"lion\",\"quantity\":3.0},{\"time\":1,\"item\":\"lion\",\"quantity\":3.0314331330207964},{\"time\":2,\"item\":\"lion\",\"quantity\":6.278031643091578},{\"time\":3,\"item\":\"lion\",\"quantity\":9.30037210271847},{\"time\":4,\"item\":\"lion\",\"quantity\":9.18958683997628},{\"time\":5,\"item\":\"lion\",\"quantity\":13.98560543306118},{\"time\":6,\"item\":\"lion\",\"quantity\":15.71068609258575},{\"time\":7,\"item\":\"lion\",\"quantity\":17.378925219250924},{\"time\":8,\"item\":\"lion\",\"quantity\":16.000000000000004},{\"time\":9,\"item\":\"lion\",\"quantity\":19.580936309501134},{\"time\":10,\"item\":\"lion\",\"quantity\":19.127049995800743},{\"time\":11,\"item\":\"lion\",\"quantity\":22.642492771517183},{\"time\":12,\"item\":\"lion\",\"quantity\":23.13058987556147},{\"time\":13,\"item\":\"lion\",\"quantity\":25.59405975059458},{\"time\":14,\"item\":\"lion\",\"quantity\":28.03516289842348},{\"time\":15,\"item\":\"lion\",\"quantity\":28.45580618665162},{\"time\":16,\"item\":\"lion\",\"quantity\":30.85761802547598},{\"time\":17,\"item\":\"lion\",\"quantity\":32.24200386420304},{\"time\":18,\"item\":\"lion\",\"quantity\":30.610188015018984},{\"time\":19,\"item\":\"lion\",\"quantity\":32.96324574534057},{\"time\":0,\"item\":\"tiger\",\"quantity\":1.0},{\"time\":1,\"item\":\"tiger\",\"quantity\":4.623898318388478},{\"time\":2,\"item\":\"tiger\",\"quantity\":8.309573444801934},{\"time\":3,\"item\":\"tiger\",\"quantity\":12.727161387290321},{\"time\":4,\"item\":\"tiger\",\"quantity\":13.98560543306118},{\"time\":5,\"item\":\"tiger\",\"quantity\":14.132639022018838},{\"time\":6,\"item\":\"tiger\",\"quantity\":19.194870523363548},{\"time\":7,\"item\":\"tiger\",\"quantity\":20.189151347155786},{\"time\":8,\"item\":\"tiger\",\"quantity\":19.127049995800743},{\"time\":9,\"item\":\"tiger\",\"quantity\":22.016965485301043},{\"time\":10,\"item\":\"tiger\",\"quantity\":23.86525259636632},{\"time\":11,\"item\":\"tiger\",\"quantity\":28.676874454922782},{\"time\":12,\"item\":\"tiger\",\"quantity\":30.45580618665162},{\"time\":13,\"item\":\"tiger\",\"quantity\":29.205297528345778},{\"time\":14,\"item\":\"tiger\",\"quantity\":31.928050775697603},{\"time\":15,\"item\":\"tiger\",\"quantity\":34.62634547570625},{\"time\":16,\"item\":\"tiger\",\"quantity\":36.30212829607493},{\"time\":17,\"item\":\"tiger\",\"quantity\":35.95707936800063},{\"time\":18,\"item\":\"tiger\",\"quantity\":40.59266228400805},{\"time\":19,\"item\":\"tiger\",\"quantity\":42.210162462449645},{\"time\":0,\"item\":\"bear\",\"quantity\":0.0},{\"time\":1,\"item\":\"bear\",\"quantity\":6.031433133020796},{\"time\":2,\"item\":\"bear\",\"quantity\":6.278031643091578},{\"time\":3,\"item\":\"bear\",\"quantity\":10.30037210271847},{\"time\":4,\"item\":\"bear\",\"quantity\":11.18958683997628},{\"time\":5,\"item\":\"bear\",\"quantity\":11.98560543306118},{\"time\":6,\"item\":\"bear\",\"quantity\":14.71068609258575},{\"time\":7,\"item\":\"bear\",\"quantity\":17.378925219250924},{\"time\":8,\"item\":\"bear\",\"quantity\":16.000000000000004},{\"time\":9,\"item\":\"bear\",\"quantity\":18.580936309501134},{\"time\":10,\"item\":\"bear\",\"quantity\":22.127049995800743},{\"time\":11,\"item\":\"bear\",\"quantity\":22.642492771517183},{\"time\":12,\"item\":\"bear\",\"quantity\":22.13058987556147},{\"time\":13,\"item\":\"bear\",\"quantity\":25.59405975059458},{\"time\":14,\"item\":\"bear\",\"quantity\":25.03516289842348},{\"time\":15,\"item\":\"bear\",\"quantity\":27.45580618665162},{\"time\":16,\"item\":\"bear\",\"quantity\":27.85761802547598},{\"time\":17,\"item\":\"bear\",\"quantity\":32.24200386420304},{\"time\":18,\"item\":\"bear\",\"quantity\":31.610188015018984},{\"time\":19,\"item\":\"bear\",\"quantity\":31.96324574534057}]},\"mark\":\"bar\",\"encoding\":{\"x\":{\"field\":\"time\"},\"y\":{\"aggregate\":\"sum\",\"field\":\"quantity\",\"type\":\"quantitative\"},\"color\":{\"field\":\"item\"}}};\n",
       "    vegaEmbed('#uuid-a75f5521-a5a8-41b9-8c02-1de47e9276c0', spec, {defaultStyle:true}).catch(console.warn);\n",
       "    }, function(err) {\n",
       "    console.log('Failed to load');\n",
       "  });\n",
       "  </script>\n",
       "</div>\n",
       "  </div></div>"
      ]
     },
     "execution_count": 35,
     "metadata": {},
     "output_type": "execute_result"
    }
   ],
   "source": [
    "(oz/view!\n",
    "  [:div\n",
    "   [:h1 \"A little hiccup example\"]\n",
    "   [:p \"Try drinking a glass of water with your head upside down\"]\n",
    "   [:div {:style {:display \"flex\" :flex-direction \"row\"}}\n",
    "    [:vega-lite spec]\n",
    "    [:vega-lite stacked-bar]]])"
   ]
  },
  {
   "cell_type": "code",
   "execution_count": 36,
   "metadata": {},
   "outputs": [
    {
     "data": {
      "text/html": [
       "\n",
       "<div>\n",
       "  <div id='uuid-7eeb3992-0fa1-4488-83f4-92881a3c4fb4'></div>\n",
       "  <script>\n",
       "  requirejs.config({\n",
       "    baseUrl: 'https://cdn.jsdelivr.net/npm/',\n",
       "    paths: {\n",
       "      'vega-embed':  'vega-embed@3?noext',\n",
       "      'vega-lib': 'vega-lib?noext',\n",
       "      'vega-lite': 'vega-lite@2?noext',\n",
       "      'vega': 'vega@3?noext'\n",
       "    }\n",
       "  });\n",
       "  require(['vega-embed'], function(vegaEmbed) {\n",
       "    let spec = {\"style\":\"cell\",\"width\":200,\"height\":200,\"data\":[{\"name\":\"source_0\",\"url\":\"https:\\/\\/gist.githubusercontent.com\\/metasoarous\\/4e6f781d353322a44b9cd3e4597c532c\\/raw\\/cd633d9bb8e0bed4a5b8e66a32b9569ca2147989\\/cars.json\",\"format\":{\"type\":\"json\"}}],\"marks\":[{\"name\":\"marks\",\"type\":\"symbol\",\"style\":[\"point\"],\"from\":{\"data\":\"source_0\"},\"encode\":{\"update\":{\"stroke\":{\"scale\":\"color\",\"field\":\"Origin\"},\"x\":{\"scale\":\"x\",\"field\":\"Horsepower\"},\"y\":{\"scale\":\"y\",\"field\":\"Miles_per_Gallon\"}}}}],\"scales\":[{\"name\":\"x\",\"type\":\"linear\",\"domain\":{\"data\":\"source_0\",\"field\":\"Horsepower\"},\"range\":[0,{\"signal\":\"width\"}]},{\"name\":\"y\",\"type\":\"linear\",\"domain\":{\"data\":\"source_0\",\"field\":\"Miles_per_Gallon\"},\"range\":[{\"signal\":\"height\"},0]},{\"name\":\"color\",\"type\":\"ordinal\",\"domain\":{\"data\":\"source_0\",\"field\":\"Origin\"},\"range\":\"category\"}]};\n",
       "    vegaEmbed('#uuid-7eeb3992-0fa1-4488-83f4-92881a3c4fb4', spec, {defaultStyle:true}).catch(console.warn);\n",
       "    }, function(err) {\n",
       "    console.log('Failed to load');\n",
       "  });\n",
       "  </script>\n",
       "</div>\n",
       "  "
      ]
     },
     "execution_count": 36,
     "metadata": {},
     "output_type": "execute_result"
    }
   ],
   "source": [
    "(def vg-spec\n",
    "  {:style \"cell\",\n",
    "   :width 200,\n",
    "   :height 200,\n",
    "   :data\n",
    "   [{:name \"source_0\",\n",
    "     :url \"https://gist.githubusercontent.com/metasoarous/4e6f781d353322a44b9cd3e4597c532c/raw/cd633d9bb8e0bed4a5b8e66a32b9569ca2147989/cars.json\",\n",
    "     :format {:type \"json\"}}],\n",
    "   :marks\n",
    "   [{:name \"marks\",\n",
    "     :type \"symbol\",\n",
    "     :style [\"point\"],\n",
    "     :from {:data \"source_0\"},\n",
    "     :encode\n",
    "     {:update\n",
    "      {:stroke {:scale \"color\", :field \"Origin\"},\n",
    "       :x {:scale \"x\", :field \"Horsepower\"},\n",
    "       :y {:scale \"y\", :field \"Miles_per_Gallon\"}}}}],\n",
    "   :scales\n",
    "   [{:name \"x\",\n",
    "     :type \"linear\",\n",
    "     :domain {:data \"source_0\", :field \"Horsepower\"},\n",
    "     :range [0 {:signal \"width\"}]}\n",
    "    {:name \"y\",\n",
    "     :type \"linear\",\n",
    "     :domain {:data \"source_0\", :field \"Miles_per_Gallon\"},\n",
    "     :range [{:signal \"height\"} 0]}\n",
    "    {:name \"color\",\n",
    "     :type \"ordinal\",\n",
    "     :domain {:data \"source_0\", :field \"Origin\"},\n",
    "     :range \"category\"}]})\n",
    "(oz/view! vg-spec)"
   ]
  },
  {
   "cell_type": "code",
   "execution_count": 10,
   "metadata": {},
   "outputs": [
    {
     "data": {
      "text/plain": [
       "#'user/shit"
      ]
     },
     "execution_count": 10,
     "metadata": {},
     "output_type": "execute_result"
    }
   ],
   "source": [
    "(defn shit [x] x)"
   ]
  },
  {
   "cell_type": "code",
   "execution_count": null,
   "metadata": {},
   "outputs": [],
   "source": []
  }
 ],
 "metadata": {
  "kernelspec": {
   "display_name": "Clojure (clojupyter)",
   "language": "clojure",
   "name": "clojure"
  },
  "language_info": {
   "file_extension": ".clj",
   "mimetype": "text/x-clojure",
   "name": "clojure",
   "version": "1.10.0"
  }
 },
 "nbformat": 4,
 "nbformat_minor": 2
}
